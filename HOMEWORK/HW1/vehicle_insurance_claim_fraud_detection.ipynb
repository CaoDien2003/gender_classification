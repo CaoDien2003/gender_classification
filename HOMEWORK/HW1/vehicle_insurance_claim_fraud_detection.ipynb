{
 "cells": [
  {
   "cell_type": "markdown",
   "metadata": {},
   "source": [
    "# **Import Library**"
   ]
  },
  {
   "cell_type": "code",
   "execution_count": 104,
   "metadata": {},
   "outputs": [],
   "source": [
    "import pandas as pd\n",
    "import numpy as np\n",
    "import matplotlib.pyplot as plt\n",
    "import seaborn as sns\n",
    "\n",
    "\n",
    "pd.set_option('display.max_colwidth', None)\n",
    "\n",
    "from sklearn.preprocessing import LabelEncoder\n",
    "from sklearn.model_selection import train_test_split\n",
    "\n",
    "from sklearn.linear_model import LogisticRegression\n",
    "from sklearn.ensemble import GradientBoostingClassifier, ExtraTreesClassifier, AdaBoostClassifier\n",
    "from sklearn.neighbors import KNeighborsClassifier\n",
    "from sklearn.svm import SVC\n",
    "from sklearn.metrics import classification_report, accuracy_score, f1_score, precision_score,recall_score\n",
    "\n",
    "\n",
    "from imblearn.over_sampling import SMOTE\n"
   ]
  },
  {
   "cell_type": "markdown",
   "metadata": {},
   "source": [
    "# **Load and Clean Dataset**"
   ]
  },
  {
   "cell_type": "code",
   "execution_count": 55,
   "metadata": {},
   "outputs": [],
   "source": [
    "def load_data(path_csv):\n",
    "\tdf = pd.read_csv(path_csv)\n",
    "\tdf.drop_duplicates(inplace=True) # drop duplicate value\n",
    "\tdf.dropna(inplace=True) # drop missing value\n",
    "\tdf.info()\n",
    "\treturn df"
   ]
  },
  {
   "cell_type": "code",
   "execution_count": 56,
   "metadata": {},
   "outputs": [
    {
     "name": "stdout",
     "output_type": "stream",
     "text": [
      "<class 'pandas.core.frame.DataFrame'>\n",
      "RangeIndex: 15420 entries, 0 to 15419\n",
      "Data columns (total 33 columns):\n",
      " #   Column                Non-Null Count  Dtype \n",
      "---  ------                --------------  ----- \n",
      " 0   Month                 15420 non-null  object\n",
      " 1   WeekOfMonth           15420 non-null  int64 \n",
      " 2   DayOfWeek             15420 non-null  object\n",
      " 3   Make                  15420 non-null  object\n",
      " 4   AccidentArea          15420 non-null  object\n",
      " 5   DayOfWeekClaimed      15420 non-null  object\n",
      " 6   MonthClaimed          15420 non-null  object\n",
      " 7   WeekOfMonthClaimed    15420 non-null  int64 \n",
      " 8   Sex                   15420 non-null  object\n",
      " 9   MaritalStatus         15420 non-null  object\n",
      " 10  Age                   15420 non-null  int64 \n",
      " 11  Fault                 15420 non-null  object\n",
      " 12  PolicyType            15420 non-null  object\n",
      " 13  VehicleCategory       15420 non-null  object\n",
      " 14  VehiclePrice          15420 non-null  object\n",
      " 15  FraudFound_P          15420 non-null  int64 \n",
      " 16  PolicyNumber          15420 non-null  int64 \n",
      " 17  RepNumber             15420 non-null  int64 \n",
      " 18  Deductible            15420 non-null  int64 \n",
      " 19  DriverRating          15420 non-null  int64 \n",
      " 20  Days_Policy_Accident  15420 non-null  object\n",
      " 21  Days_Policy_Claim     15420 non-null  object\n",
      " 22  PastNumberOfClaims    15420 non-null  object\n",
      " 23  AgeOfVehicle          15420 non-null  object\n",
      " 24  AgeOfPolicyHolder     15420 non-null  object\n",
      " 25  PoliceReportFiled     15420 non-null  object\n",
      " 26  WitnessPresent        15420 non-null  object\n",
      " 27  AgentType             15420 non-null  object\n",
      " 28  NumberOfSuppliments   15420 non-null  object\n",
      " 29  AddressChange_Claim   15420 non-null  object\n",
      " 30  NumberOfCars          15420 non-null  object\n",
      " 31  Year                  15420 non-null  int64 \n",
      " 32  BasePolicy            15420 non-null  object\n",
      "dtypes: int64(9), object(24)\n",
      "memory usage: 3.9+ MB\n"
     ]
    },
    {
     "data": {
      "text/html": [
       "<div>\n",
       "<style scoped>\n",
       "    .dataframe tbody tr th:only-of-type {\n",
       "        vertical-align: middle;\n",
       "    }\n",
       "\n",
       "    .dataframe tbody tr th {\n",
       "        vertical-align: top;\n",
       "    }\n",
       "\n",
       "    .dataframe thead th {\n",
       "        text-align: right;\n",
       "    }\n",
       "</style>\n",
       "<table border=\"1\" class=\"dataframe\">\n",
       "  <thead>\n",
       "    <tr style=\"text-align: right;\">\n",
       "      <th></th>\n",
       "      <th>Month</th>\n",
       "      <th>WeekOfMonth</th>\n",
       "      <th>DayOfWeek</th>\n",
       "      <th>Make</th>\n",
       "      <th>AccidentArea</th>\n",
       "      <th>DayOfWeekClaimed</th>\n",
       "      <th>MonthClaimed</th>\n",
       "      <th>WeekOfMonthClaimed</th>\n",
       "      <th>Sex</th>\n",
       "      <th>MaritalStatus</th>\n",
       "      <th>...</th>\n",
       "      <th>AgeOfVehicle</th>\n",
       "      <th>AgeOfPolicyHolder</th>\n",
       "      <th>PoliceReportFiled</th>\n",
       "      <th>WitnessPresent</th>\n",
       "      <th>AgentType</th>\n",
       "      <th>NumberOfSuppliments</th>\n",
       "      <th>AddressChange_Claim</th>\n",
       "      <th>NumberOfCars</th>\n",
       "      <th>Year</th>\n",
       "      <th>BasePolicy</th>\n",
       "    </tr>\n",
       "  </thead>\n",
       "  <tbody>\n",
       "    <tr>\n",
       "      <th>0</th>\n",
       "      <td>Dec</td>\n",
       "      <td>5</td>\n",
       "      <td>Wednesday</td>\n",
       "      <td>Honda</td>\n",
       "      <td>Urban</td>\n",
       "      <td>Tuesday</td>\n",
       "      <td>Jan</td>\n",
       "      <td>1</td>\n",
       "      <td>Female</td>\n",
       "      <td>Single</td>\n",
       "      <td>...</td>\n",
       "      <td>3 years</td>\n",
       "      <td>26 to 30</td>\n",
       "      <td>No</td>\n",
       "      <td>No</td>\n",
       "      <td>External</td>\n",
       "      <td>none</td>\n",
       "      <td>1 year</td>\n",
       "      <td>3 to 4</td>\n",
       "      <td>1994</td>\n",
       "      <td>Liability</td>\n",
       "    </tr>\n",
       "    <tr>\n",
       "      <th>1</th>\n",
       "      <td>Jan</td>\n",
       "      <td>3</td>\n",
       "      <td>Wednesday</td>\n",
       "      <td>Honda</td>\n",
       "      <td>Urban</td>\n",
       "      <td>Monday</td>\n",
       "      <td>Jan</td>\n",
       "      <td>4</td>\n",
       "      <td>Male</td>\n",
       "      <td>Single</td>\n",
       "      <td>...</td>\n",
       "      <td>6 years</td>\n",
       "      <td>31 to 35</td>\n",
       "      <td>Yes</td>\n",
       "      <td>No</td>\n",
       "      <td>External</td>\n",
       "      <td>none</td>\n",
       "      <td>no change</td>\n",
       "      <td>1 vehicle</td>\n",
       "      <td>1994</td>\n",
       "      <td>Collision</td>\n",
       "    </tr>\n",
       "    <tr>\n",
       "      <th>2</th>\n",
       "      <td>Oct</td>\n",
       "      <td>5</td>\n",
       "      <td>Friday</td>\n",
       "      <td>Honda</td>\n",
       "      <td>Urban</td>\n",
       "      <td>Thursday</td>\n",
       "      <td>Nov</td>\n",
       "      <td>2</td>\n",
       "      <td>Male</td>\n",
       "      <td>Married</td>\n",
       "      <td>...</td>\n",
       "      <td>7 years</td>\n",
       "      <td>41 to 50</td>\n",
       "      <td>No</td>\n",
       "      <td>No</td>\n",
       "      <td>External</td>\n",
       "      <td>none</td>\n",
       "      <td>no change</td>\n",
       "      <td>1 vehicle</td>\n",
       "      <td>1994</td>\n",
       "      <td>Collision</td>\n",
       "    </tr>\n",
       "    <tr>\n",
       "      <th>3</th>\n",
       "      <td>Jun</td>\n",
       "      <td>2</td>\n",
       "      <td>Saturday</td>\n",
       "      <td>Toyota</td>\n",
       "      <td>Rural</td>\n",
       "      <td>Friday</td>\n",
       "      <td>Jul</td>\n",
       "      <td>1</td>\n",
       "      <td>Male</td>\n",
       "      <td>Married</td>\n",
       "      <td>...</td>\n",
       "      <td>more than 7</td>\n",
       "      <td>51 to 65</td>\n",
       "      <td>Yes</td>\n",
       "      <td>No</td>\n",
       "      <td>External</td>\n",
       "      <td>more than 5</td>\n",
       "      <td>no change</td>\n",
       "      <td>1 vehicle</td>\n",
       "      <td>1994</td>\n",
       "      <td>Liability</td>\n",
       "    </tr>\n",
       "    <tr>\n",
       "      <th>4</th>\n",
       "      <td>Jan</td>\n",
       "      <td>5</td>\n",
       "      <td>Monday</td>\n",
       "      <td>Honda</td>\n",
       "      <td>Urban</td>\n",
       "      <td>Tuesday</td>\n",
       "      <td>Feb</td>\n",
       "      <td>2</td>\n",
       "      <td>Female</td>\n",
       "      <td>Single</td>\n",
       "      <td>...</td>\n",
       "      <td>5 years</td>\n",
       "      <td>31 to 35</td>\n",
       "      <td>No</td>\n",
       "      <td>No</td>\n",
       "      <td>External</td>\n",
       "      <td>none</td>\n",
       "      <td>no change</td>\n",
       "      <td>1 vehicle</td>\n",
       "      <td>1994</td>\n",
       "      <td>Collision</td>\n",
       "    </tr>\n",
       "  </tbody>\n",
       "</table>\n",
       "<p>5 rows × 33 columns</p>\n",
       "</div>"
      ],
      "text/plain": [
       "  Month  WeekOfMonth  DayOfWeek    Make AccidentArea DayOfWeekClaimed  \\\n",
       "0   Dec            5  Wednesday   Honda        Urban          Tuesday   \n",
       "1   Jan            3  Wednesday   Honda        Urban           Monday   \n",
       "2   Oct            5     Friday   Honda        Urban         Thursday   \n",
       "3   Jun            2   Saturday  Toyota        Rural           Friday   \n",
       "4   Jan            5     Monday   Honda        Urban          Tuesday   \n",
       "\n",
       "  MonthClaimed  WeekOfMonthClaimed     Sex MaritalStatus  ...  AgeOfVehicle  \\\n",
       "0          Jan                   1  Female        Single  ...       3 years   \n",
       "1          Jan                   4    Male        Single  ...       6 years   \n",
       "2          Nov                   2    Male       Married  ...       7 years   \n",
       "3          Jul                   1    Male       Married  ...   more than 7   \n",
       "4          Feb                   2  Female        Single  ...       5 years   \n",
       "\n",
       "  AgeOfPolicyHolder PoliceReportFiled WitnessPresent AgentType  \\\n",
       "0          26 to 30                No             No  External   \n",
       "1          31 to 35               Yes             No  External   \n",
       "2          41 to 50                No             No  External   \n",
       "3          51 to 65               Yes             No  External   \n",
       "4          31 to 35                No             No  External   \n",
       "\n",
       "   NumberOfSuppliments  AddressChange_Claim  NumberOfCars  Year  BasePolicy  \n",
       "0                 none               1 year        3 to 4  1994   Liability  \n",
       "1                 none            no change     1 vehicle  1994   Collision  \n",
       "2                 none            no change     1 vehicle  1994   Collision  \n",
       "3          more than 5            no change     1 vehicle  1994   Liability  \n",
       "4                 none            no change     1 vehicle  1994   Collision  \n",
       "\n",
       "[5 rows x 33 columns]"
      ]
     },
     "execution_count": 56,
     "metadata": {},
     "output_type": "execute_result"
    }
   ],
   "source": [
    "path = \"fraud_oracle.csv\"\n",
    "df = load_data(path)\n",
    "df.head(5)"
   ]
  },
  {
   "cell_type": "markdown",
   "metadata": {},
   "source": [
    "# **Feature Definitions**"
   ]
  },
  {
   "cell_type": "markdown",
   "metadata": {},
   "source": [
    "- **Month**: Month of the insurance claim.\n",
    "- **WeekOfMonth**: Week of the month of the claim.\n",
    "- **DayOfWeek**: Day of the week of the claim.\n",
    "- **Make**: Vehicle manufacturer.\n",
    "- **AccidentArea**: Accident area (urban/rural).\n",
    "- **DayOfWeekClaimed**: Day of the week the claim was processed.\n",
    "- **MonthClaimed**: Month the claim was processed.\n",
    "- **WeekOfMonthClaimed**: Week of the month the claim was processed.\n",
    "- **Sex**: Policyholder's gender.\n",
    "- **MaritalStatus**: Policyholder's marital status.\n",
    "- **Age**: Policyholder's age.\n",
    "- **Fault**: Policyholder at fault (yes/no).\n",
    "- **PolicyType**: Type of insurance policy.\n",
    "- **VehicleCategory**: Vehicle category (e.g., sedan, SUV).\n",
    "- **VehiclePrice**: Price of the vehicle.\n",
    "- **FraudFound_P**: Fraud detected (yes/no).\n",
    "- **PolicyNumber**: Insurance policy identifier.\n",
    "- **RepNumber**: Insurance representative identifier.\n",
    "- **Deductible**: Out-of-pocket amount before insurance coverage.\n",
    "- **DriverRating**: Driver's rating.\n",
    "- **Days_Policy_Accident**: Days from policy issue to accident.\n",
    "- **Days_Policy_Claim**: Days from policy issue to claim.\n",
    "- **PastNumberOfClaims**: Previous claims by the policyholder.\n",
    "- **AgeOfVehicle**: Age of the vehicle.\n",
    "- **AgeOfPolicyHolder**: Age of the policyholder.\n",
    "- **PoliceReportFiled**: Police report filed (yes/no).\n",
    "- **WitnessPresent**: Witness present (yes/no).\n",
    "- **AgentType**: Type of insurance agent (internal/external).\n",
    "- **NumberOfSuppliments**: Number of supplementary documents/claims.\n",
    "- **AddressChange_Claim**: Address change at the time of claim (yes/no).\n",
    "- **NumberOfCars**: Number of cars insured.\n",
    "- **Year**: Year of the claim.\n",
    "- **BasePolicy**: Base policy type (e.g., Liability, Collision, All Perils)."
   ]
  },
  {
   "cell_type": "markdown",
   "metadata": {},
   "source": [
    "# **Exploratory Data Analysis**"
   ]
  },
  {
   "cell_type": "markdown",
   "metadata": {},
   "source": [
    "## Characteristic of Dataset"
   ]
  },
  {
   "cell_type": "code",
   "execution_count": 57,
   "metadata": {},
   "outputs": [
    {
     "data": {
      "text/html": [
       "<div>\n",
       "<style scoped>\n",
       "    .dataframe tbody tr th:only-of-type {\n",
       "        vertical-align: middle;\n",
       "    }\n",
       "\n",
       "    .dataframe tbody tr th {\n",
       "        vertical-align: top;\n",
       "    }\n",
       "\n",
       "    .dataframe thead th {\n",
       "        text-align: right;\n",
       "    }\n",
       "</style>\n",
       "<table border=\"1\" class=\"dataframe\">\n",
       "  <thead>\n",
       "    <tr style=\"text-align: right;\">\n",
       "      <th></th>\n",
       "      <th>WeekOfMonth</th>\n",
       "      <th>WeekOfMonthClaimed</th>\n",
       "      <th>Age</th>\n",
       "      <th>FraudFound_P</th>\n",
       "      <th>PolicyNumber</th>\n",
       "      <th>RepNumber</th>\n",
       "      <th>Deductible</th>\n",
       "      <th>DriverRating</th>\n",
       "      <th>Year</th>\n",
       "    </tr>\n",
       "  </thead>\n",
       "  <tbody>\n",
       "    <tr>\n",
       "      <th>count</th>\n",
       "      <td>15420.000000</td>\n",
       "      <td>15420.000000</td>\n",
       "      <td>15420.000000</td>\n",
       "      <td>15420.000000</td>\n",
       "      <td>15420.000000</td>\n",
       "      <td>15420.000000</td>\n",
       "      <td>15420.000000</td>\n",
       "      <td>15420.000000</td>\n",
       "      <td>15420.000000</td>\n",
       "    </tr>\n",
       "    <tr>\n",
       "      <th>mean</th>\n",
       "      <td>2.788586</td>\n",
       "      <td>2.693969</td>\n",
       "      <td>39.855707</td>\n",
       "      <td>0.059857</td>\n",
       "      <td>7710.500000</td>\n",
       "      <td>8.483268</td>\n",
       "      <td>407.704280</td>\n",
       "      <td>2.487808</td>\n",
       "      <td>1994.866472</td>\n",
       "    </tr>\n",
       "    <tr>\n",
       "      <th>std</th>\n",
       "      <td>1.287585</td>\n",
       "      <td>1.259115</td>\n",
       "      <td>13.492377</td>\n",
       "      <td>0.237230</td>\n",
       "      <td>4451.514911</td>\n",
       "      <td>4.599948</td>\n",
       "      <td>43.950998</td>\n",
       "      <td>1.119453</td>\n",
       "      <td>0.803313</td>\n",
       "    </tr>\n",
       "    <tr>\n",
       "      <th>min</th>\n",
       "      <td>1.000000</td>\n",
       "      <td>1.000000</td>\n",
       "      <td>0.000000</td>\n",
       "      <td>0.000000</td>\n",
       "      <td>1.000000</td>\n",
       "      <td>1.000000</td>\n",
       "      <td>300.000000</td>\n",
       "      <td>1.000000</td>\n",
       "      <td>1994.000000</td>\n",
       "    </tr>\n",
       "    <tr>\n",
       "      <th>25%</th>\n",
       "      <td>2.000000</td>\n",
       "      <td>2.000000</td>\n",
       "      <td>31.000000</td>\n",
       "      <td>0.000000</td>\n",
       "      <td>3855.750000</td>\n",
       "      <td>5.000000</td>\n",
       "      <td>400.000000</td>\n",
       "      <td>1.000000</td>\n",
       "      <td>1994.000000</td>\n",
       "    </tr>\n",
       "    <tr>\n",
       "      <th>50%</th>\n",
       "      <td>3.000000</td>\n",
       "      <td>3.000000</td>\n",
       "      <td>38.000000</td>\n",
       "      <td>0.000000</td>\n",
       "      <td>7710.500000</td>\n",
       "      <td>8.000000</td>\n",
       "      <td>400.000000</td>\n",
       "      <td>2.000000</td>\n",
       "      <td>1995.000000</td>\n",
       "    </tr>\n",
       "    <tr>\n",
       "      <th>75%</th>\n",
       "      <td>4.000000</td>\n",
       "      <td>4.000000</td>\n",
       "      <td>48.000000</td>\n",
       "      <td>0.000000</td>\n",
       "      <td>11565.250000</td>\n",
       "      <td>12.000000</td>\n",
       "      <td>400.000000</td>\n",
       "      <td>3.000000</td>\n",
       "      <td>1996.000000</td>\n",
       "    </tr>\n",
       "    <tr>\n",
       "      <th>max</th>\n",
       "      <td>5.000000</td>\n",
       "      <td>5.000000</td>\n",
       "      <td>80.000000</td>\n",
       "      <td>1.000000</td>\n",
       "      <td>15420.000000</td>\n",
       "      <td>16.000000</td>\n",
       "      <td>700.000000</td>\n",
       "      <td>4.000000</td>\n",
       "      <td>1996.000000</td>\n",
       "    </tr>\n",
       "  </tbody>\n",
       "</table>\n",
       "</div>"
      ],
      "text/plain": [
       "        WeekOfMonth  WeekOfMonthClaimed           Age  FraudFound_P  \\\n",
       "count  15420.000000        15420.000000  15420.000000  15420.000000   \n",
       "mean       2.788586            2.693969     39.855707      0.059857   \n",
       "std        1.287585            1.259115     13.492377      0.237230   \n",
       "min        1.000000            1.000000      0.000000      0.000000   \n",
       "25%        2.000000            2.000000     31.000000      0.000000   \n",
       "50%        3.000000            3.000000     38.000000      0.000000   \n",
       "75%        4.000000            4.000000     48.000000      0.000000   \n",
       "max        5.000000            5.000000     80.000000      1.000000   \n",
       "\n",
       "       PolicyNumber     RepNumber    Deductible  DriverRating          Year  \n",
       "count  15420.000000  15420.000000  15420.000000  15420.000000  15420.000000  \n",
       "mean    7710.500000      8.483268    407.704280      2.487808   1994.866472  \n",
       "std     4451.514911      4.599948     43.950998      1.119453      0.803313  \n",
       "min        1.000000      1.000000    300.000000      1.000000   1994.000000  \n",
       "25%     3855.750000      5.000000    400.000000      1.000000   1994.000000  \n",
       "50%     7710.500000      8.000000    400.000000      2.000000   1995.000000  \n",
       "75%    11565.250000     12.000000    400.000000      3.000000   1996.000000  \n",
       "max    15420.000000     16.000000    700.000000      4.000000   1996.000000  "
      ]
     },
     "execution_count": 57,
     "metadata": {},
     "output_type": "execute_result"
    }
   ],
   "source": [
    "df.describe()"
   ]
  },
  {
   "cell_type": "markdown",
   "metadata": {},
   "source": [
    "- \"PolicyNumber\" is merely an identification number. Let's drop It\n",
    "- The minimum value of \"Age\" is 0. It totally doesn't make sense. Let's drop value 0"
   ]
  },
  {
   "cell_type": "code",
   "execution_count": 58,
   "metadata": {},
   "outputs": [],
   "source": [
    "# Summarize the unique of dataset\n",
    "def summarize(df):\n",
    "    \n",
    "    summary = pd.DataFrame()\n",
    "    \n",
    "    # Data Type\n",
    "    summary['Data Type'] = df.dtypes\n",
    "    # N Unique\n",
    "    summary['N Unique'] = df.nunique()\n",
    "    # Unique\n",
    "    summary['Unique'] = df.apply(lambda x: x.unique().tolist())\n",
    "    \n",
    "    return summary"
   ]
  },
  {
   "cell_type": "code",
   "execution_count": 59,
   "metadata": {},
   "outputs": [
    {
     "data": {
      "text/html": [
       "<div>\n",
       "<style scoped>\n",
       "    .dataframe tbody tr th:only-of-type {\n",
       "        vertical-align: middle;\n",
       "    }\n",
       "\n",
       "    .dataframe tbody tr th {\n",
       "        vertical-align: top;\n",
       "    }\n",
       "\n",
       "    .dataframe thead th {\n",
       "        text-align: right;\n",
       "    }\n",
       "</style>\n",
       "<table border=\"1\" class=\"dataframe\">\n",
       "  <thead>\n",
       "    <tr style=\"text-align: right;\">\n",
       "      <th></th>\n",
       "      <th>Data Type</th>\n",
       "      <th>N Unique</th>\n",
       "      <th>Unique</th>\n",
       "    </tr>\n",
       "  </thead>\n",
       "  <tbody>\n",
       "    <tr>\n",
       "      <th>Month</th>\n",
       "      <td>object</td>\n",
       "      <td>12</td>\n",
       "      <td>[Dec, Jan, Oct, Jun, Feb, Nov, Apr, Mar, Aug, Jul, May, Sep]</td>\n",
       "    </tr>\n",
       "    <tr>\n",
       "      <th>WeekOfMonth</th>\n",
       "      <td>int64</td>\n",
       "      <td>5</td>\n",
       "      <td>[5, 3, 2, 4, 1]</td>\n",
       "    </tr>\n",
       "    <tr>\n",
       "      <th>DayOfWeek</th>\n",
       "      <td>object</td>\n",
       "      <td>7</td>\n",
       "      <td>[Wednesday, Friday, Saturday, Monday, Tuesday, Sunday, Thursday]</td>\n",
       "    </tr>\n",
       "    <tr>\n",
       "      <th>Make</th>\n",
       "      <td>object</td>\n",
       "      <td>19</td>\n",
       "      <td>[Honda, Toyota, Ford, Mazda, Chevrolet, Pontiac, Accura, Dodge, Mercury, Jaguar, Nisson, VW, Saab, Saturn, Porche, BMW, Mecedes, Ferrari, Lexus]</td>\n",
       "    </tr>\n",
       "    <tr>\n",
       "      <th>AccidentArea</th>\n",
       "      <td>object</td>\n",
       "      <td>2</td>\n",
       "      <td>[Urban, Rural]</td>\n",
       "    </tr>\n",
       "    <tr>\n",
       "      <th>DayOfWeekClaimed</th>\n",
       "      <td>object</td>\n",
       "      <td>8</td>\n",
       "      <td>[Tuesday, Monday, Thursday, Friday, Wednesday, Saturday, Sunday, 0]</td>\n",
       "    </tr>\n",
       "    <tr>\n",
       "      <th>MonthClaimed</th>\n",
       "      <td>object</td>\n",
       "      <td>13</td>\n",
       "      <td>[Jan, Nov, Jul, Feb, Mar, Dec, Apr, Aug, May, Jun, Sep, Oct, 0]</td>\n",
       "    </tr>\n",
       "    <tr>\n",
       "      <th>WeekOfMonthClaimed</th>\n",
       "      <td>int64</td>\n",
       "      <td>5</td>\n",
       "      <td>[1, 4, 2, 3, 5]</td>\n",
       "    </tr>\n",
       "    <tr>\n",
       "      <th>Sex</th>\n",
       "      <td>object</td>\n",
       "      <td>2</td>\n",
       "      <td>[Female, Male]</td>\n",
       "    </tr>\n",
       "    <tr>\n",
       "      <th>MaritalStatus</th>\n",
       "      <td>object</td>\n",
       "      <td>4</td>\n",
       "      <td>[Single, Married, Widow, Divorced]</td>\n",
       "    </tr>\n",
       "    <tr>\n",
       "      <th>Age</th>\n",
       "      <td>int64</td>\n",
       "      <td>66</td>\n",
       "      <td>[21, 34, 47, 65, 27, 20, 36, 0, 30, 42, 71, 52, 28, 61, 38, 41, 32, 40, 63, 31, 45, 60, 39, 55, 35, 44, 72, 29, 37, 59, 49, 50, 26, 48, 64, 33, 74, 23, 25, 56, 16, 68, 18, 51, 22, 53, 46, 43, 57, 54, 69, 67, 19, 78, 77, 75, 80, 58, 73, 24, 76, 62, 79, 70, 17, 66]</td>\n",
       "    </tr>\n",
       "    <tr>\n",
       "      <th>Fault</th>\n",
       "      <td>object</td>\n",
       "      <td>2</td>\n",
       "      <td>[Policy Holder, Third Party]</td>\n",
       "    </tr>\n",
       "    <tr>\n",
       "      <th>PolicyType</th>\n",
       "      <td>object</td>\n",
       "      <td>9</td>\n",
       "      <td>[Sport - Liability, Sport - Collision, Sedan - Liability, Utility - All Perils, Sedan - All Perils, Sedan - Collision, Utility - Collision, Utility - Liability, Sport - All Perils]</td>\n",
       "    </tr>\n",
       "    <tr>\n",
       "      <th>VehicleCategory</th>\n",
       "      <td>object</td>\n",
       "      <td>3</td>\n",
       "      <td>[Sport, Utility, Sedan]</td>\n",
       "    </tr>\n",
       "    <tr>\n",
       "      <th>VehiclePrice</th>\n",
       "      <td>object</td>\n",
       "      <td>6</td>\n",
       "      <td>[more than 69000, 20000 to 29000, 30000 to 39000, less than 20000, 40000 to 59000, 60000 to 69000]</td>\n",
       "    </tr>\n",
       "    <tr>\n",
       "      <th>FraudFound_P</th>\n",
       "      <td>int64</td>\n",
       "      <td>2</td>\n",
       "      <td>[0, 1]</td>\n",
       "    </tr>\n",
       "    <tr>\n",
       "      <th>PolicyNumber</th>\n",
       "      <td>int64</td>\n",
       "      <td>15420</td>\n",
       "      <td>[1, 2, 3, 4, 5, 6, 7, 8, 9, 10, 11, 12, 13, 14, 15, 16, 17, 18, 19, 20, 21, 22, 23, 24, 25, 26, 27, 28, 29, 30, 31, 32, 33, 34, 35, 36, 37, 38, 39, 40, 41, 42, 43, 44, 45, 46, 47, 48, 49, 50, 51, 52, 53, 54, 55, 56, 57, 58, 59, 60, 61, 62, 63, 64, 65, 66, 67, 68, 69, 70, 71, 72, 73, 74, 75, 76, 77, 78, 79, 80, 81, 82, 83, 84, 85, 86, 87, 88, 89, 90, 91, 92, 93, 94, 95, 96, 97, 98, 99, 100, ...]</td>\n",
       "    </tr>\n",
       "    <tr>\n",
       "      <th>RepNumber</th>\n",
       "      <td>int64</td>\n",
       "      <td>16</td>\n",
       "      <td>[12, 15, 7, 4, 3, 14, 1, 13, 11, 16, 6, 2, 8, 5, 9, 10]</td>\n",
       "    </tr>\n",
       "    <tr>\n",
       "      <th>Deductible</th>\n",
       "      <td>int64</td>\n",
       "      <td>4</td>\n",
       "      <td>[300, 400, 500, 700]</td>\n",
       "    </tr>\n",
       "    <tr>\n",
       "      <th>DriverRating</th>\n",
       "      <td>int64</td>\n",
       "      <td>4</td>\n",
       "      <td>[1, 4, 3, 2]</td>\n",
       "    </tr>\n",
       "    <tr>\n",
       "      <th>Days_Policy_Accident</th>\n",
       "      <td>object</td>\n",
       "      <td>5</td>\n",
       "      <td>[more than 30, 15 to 30, none, 1 to 7, 8 to 15]</td>\n",
       "    </tr>\n",
       "    <tr>\n",
       "      <th>Days_Policy_Claim</th>\n",
       "      <td>object</td>\n",
       "      <td>4</td>\n",
       "      <td>[more than 30, 15 to 30, 8 to 15, none]</td>\n",
       "    </tr>\n",
       "    <tr>\n",
       "      <th>PastNumberOfClaims</th>\n",
       "      <td>object</td>\n",
       "      <td>4</td>\n",
       "      <td>[none, 1, 2 to 4, more than 4]</td>\n",
       "    </tr>\n",
       "    <tr>\n",
       "      <th>AgeOfVehicle</th>\n",
       "      <td>object</td>\n",
       "      <td>8</td>\n",
       "      <td>[3 years, 6 years, 7 years, more than 7, 5 years, new, 4 years, 2 years]</td>\n",
       "    </tr>\n",
       "    <tr>\n",
       "      <th>AgeOfPolicyHolder</th>\n",
       "      <td>object</td>\n",
       "      <td>9</td>\n",
       "      <td>[26 to 30, 31 to 35, 41 to 50, 51 to 65, 21 to 25, 36 to 40, 16 to 17, over 65, 18 to 20]</td>\n",
       "    </tr>\n",
       "    <tr>\n",
       "      <th>PoliceReportFiled</th>\n",
       "      <td>object</td>\n",
       "      <td>2</td>\n",
       "      <td>[No, Yes]</td>\n",
       "    </tr>\n",
       "    <tr>\n",
       "      <th>WitnessPresent</th>\n",
       "      <td>object</td>\n",
       "      <td>2</td>\n",
       "      <td>[No, Yes]</td>\n",
       "    </tr>\n",
       "    <tr>\n",
       "      <th>AgentType</th>\n",
       "      <td>object</td>\n",
       "      <td>2</td>\n",
       "      <td>[External, Internal]</td>\n",
       "    </tr>\n",
       "    <tr>\n",
       "      <th>NumberOfSuppliments</th>\n",
       "      <td>object</td>\n",
       "      <td>4</td>\n",
       "      <td>[none, more than 5, 3 to 5, 1 to 2]</td>\n",
       "    </tr>\n",
       "    <tr>\n",
       "      <th>AddressChange_Claim</th>\n",
       "      <td>object</td>\n",
       "      <td>5</td>\n",
       "      <td>[1 year, no change, 4 to 8 years, 2 to 3 years, under 6 months]</td>\n",
       "    </tr>\n",
       "    <tr>\n",
       "      <th>NumberOfCars</th>\n",
       "      <td>object</td>\n",
       "      <td>5</td>\n",
       "      <td>[3 to 4, 1 vehicle, 2 vehicles, 5 to 8, more than 8]</td>\n",
       "    </tr>\n",
       "    <tr>\n",
       "      <th>Year</th>\n",
       "      <td>int64</td>\n",
       "      <td>3</td>\n",
       "      <td>[1994, 1995, 1996]</td>\n",
       "    </tr>\n",
       "    <tr>\n",
       "      <th>BasePolicy</th>\n",
       "      <td>object</td>\n",
       "      <td>3</td>\n",
       "      <td>[Liability, Collision, All Perils]</td>\n",
       "    </tr>\n",
       "  </tbody>\n",
       "</table>\n",
       "</div>"
      ],
      "text/plain": [
       "                     Data Type  N Unique  \\\n",
       "Month                   object        12   \n",
       "WeekOfMonth              int64         5   \n",
       "DayOfWeek               object         7   \n",
       "Make                    object        19   \n",
       "AccidentArea            object         2   \n",
       "DayOfWeekClaimed        object         8   \n",
       "MonthClaimed            object        13   \n",
       "WeekOfMonthClaimed       int64         5   \n",
       "Sex                     object         2   \n",
       "MaritalStatus           object         4   \n",
       "Age                      int64        66   \n",
       "Fault                   object         2   \n",
       "PolicyType              object         9   \n",
       "VehicleCategory         object         3   \n",
       "VehiclePrice            object         6   \n",
       "FraudFound_P             int64         2   \n",
       "PolicyNumber             int64     15420   \n",
       "RepNumber                int64        16   \n",
       "Deductible               int64         4   \n",
       "DriverRating             int64         4   \n",
       "Days_Policy_Accident    object         5   \n",
       "Days_Policy_Claim       object         4   \n",
       "PastNumberOfClaims      object         4   \n",
       "AgeOfVehicle            object         8   \n",
       "AgeOfPolicyHolder       object         9   \n",
       "PoliceReportFiled       object         2   \n",
       "WitnessPresent          object         2   \n",
       "AgentType               object         2   \n",
       "NumberOfSuppliments     object         4   \n",
       "AddressChange_Claim     object         5   \n",
       "NumberOfCars            object         5   \n",
       "Year                     int64         3   \n",
       "BasePolicy              object         3   \n",
       "\n",
       "                                                                                                                                                                                                                                                                                                                                                                                                                             Unique  \n",
       "Month                                                                                                                                                                                                                                                                                                                                                                  [Dec, Jan, Oct, Jun, Feb, Nov, Apr, Mar, Aug, Jul, May, Sep]  \n",
       "WeekOfMonth                                                                                                                                                                                                                                                                                                                                                                                                         [5, 3, 2, 4, 1]  \n",
       "DayOfWeek                                                                                                                                                                                                                                                                                                                                                          [Wednesday, Friday, Saturday, Monday, Tuesday, Sunday, Thursday]  \n",
       "Make                                                                                                                                                                                                                                                                               [Honda, Toyota, Ford, Mazda, Chevrolet, Pontiac, Accura, Dodge, Mercury, Jaguar, Nisson, VW, Saab, Saturn, Porche, BMW, Mecedes, Ferrari, Lexus]  \n",
       "AccidentArea                                                                                                                                                                                                                                                                                                                                                                                                         [Urban, Rural]  \n",
       "DayOfWeekClaimed                                                                                                                                                                                                                                                                                                                                                [Tuesday, Monday, Thursday, Friday, Wednesday, Saturday, Sunday, 0]  \n",
       "MonthClaimed                                                                                                                                                                                                                                                                                                                                                        [Jan, Nov, Jul, Feb, Mar, Dec, Apr, Aug, May, Jun, Sep, Oct, 0]  \n",
       "WeekOfMonthClaimed                                                                                                                                                                                                                                                                                                                                                                                                  [1, 4, 2, 3, 5]  \n",
       "Sex                                                                                                                                                                                                                                                                                                                                                                                                                  [Female, Male]  \n",
       "MaritalStatus                                                                                                                                                                                                                                                                                                                                                                                    [Single, Married, Widow, Divorced]  \n",
       "Age                                                                                                                                                         [21, 34, 47, 65, 27, 20, 36, 0, 30, 42, 71, 52, 28, 61, 38, 41, 32, 40, 63, 31, 45, 60, 39, 55, 35, 44, 72, 29, 37, 59, 49, 50, 26, 48, 64, 33, 74, 23, 25, 56, 16, 68, 18, 51, 22, 53, 46, 43, 57, 54, 69, 67, 19, 78, 77, 75, 80, 58, 73, 24, 76, 62, 79, 70, 17, 66]  \n",
       "Fault                                                                                                                                                                                                                                                                                                                                                                                                  [Policy Holder, Third Party]  \n",
       "PolicyType                                                                                                                                                                                                                                     [Sport - Liability, Sport - Collision, Sedan - Liability, Utility - All Perils, Sedan - All Perils, Sedan - Collision, Utility - Collision, Utility - Liability, Sport - All Perils]  \n",
       "VehicleCategory                                                                                                                                                                                                                                                                                                                                                                                             [Sport, Utility, Sedan]  \n",
       "VehiclePrice                                                                                                                                                                                                                                                                                                                     [more than 69000, 20000 to 29000, 30000 to 39000, less than 20000, 40000 to 59000, 60000 to 69000]  \n",
       "FraudFound_P                                                                                                                                                                                                                                                                                                                                                                                                                 [0, 1]  \n",
       "PolicyNumber          [1, 2, 3, 4, 5, 6, 7, 8, 9, 10, 11, 12, 13, 14, 15, 16, 17, 18, 19, 20, 21, 22, 23, 24, 25, 26, 27, 28, 29, 30, 31, 32, 33, 34, 35, 36, 37, 38, 39, 40, 41, 42, 43, 44, 45, 46, 47, 48, 49, 50, 51, 52, 53, 54, 55, 56, 57, 58, 59, 60, 61, 62, 63, 64, 65, 66, 67, 68, 69, 70, 71, 72, 73, 74, 75, 76, 77, 78, 79, 80, 81, 82, 83, 84, 85, 86, 87, 88, 89, 90, 91, 92, 93, 94, 95, 96, 97, 98, 99, 100, ...]  \n",
       "RepNumber                                                                                                                                                                                                                                                                                                                                                                   [12, 15, 7, 4, 3, 14, 1, 13, 11, 16, 6, 2, 8, 5, 9, 10]  \n",
       "Deductible                                                                                                                                                                                                                                                                                                                                                                                                     [300, 400, 500, 700]  \n",
       "DriverRating                                                                                                                                                                                                                                                                                                                                                                                                           [1, 4, 3, 2]  \n",
       "Days_Policy_Accident                                                                                                                                                                                                                                                                                                                                                                [more than 30, 15 to 30, none, 1 to 7, 8 to 15]  \n",
       "Days_Policy_Claim                                                                                                                                                                                                                                                                                                                                                                           [more than 30, 15 to 30, 8 to 15, none]  \n",
       "PastNumberOfClaims                                                                                                                                                                                                                                                                                                                                                                                   [none, 1, 2 to 4, more than 4]  \n",
       "AgeOfVehicle                                                                                                                                                                                                                                                                                                                                               [3 years, 6 years, 7 years, more than 7, 5 years, new, 4 years, 2 years]  \n",
       "AgeOfPolicyHolder                                                                                                                                                                                                                                                                                                                         [26 to 30, 31 to 35, 41 to 50, 51 to 65, 21 to 25, 36 to 40, 16 to 17, over 65, 18 to 20]  \n",
       "PoliceReportFiled                                                                                                                                                                                                                                                                                                                                                                                                         [No, Yes]  \n",
       "WitnessPresent                                                                                                                                                                                                                                                                                                                                                                                                            [No, Yes]  \n",
       "AgentType                                                                                                                                                                                                                                                                                                                                                                                                      [External, Internal]  \n",
       "NumberOfSuppliments                                                                                                                                                                                                                                                                                                                                                                             [none, more than 5, 3 to 5, 1 to 2]  \n",
       "AddressChange_Claim                                                                                                                                                                                                                                                                                                                                                 [1 year, no change, 4 to 8 years, 2 to 3 years, under 6 months]  \n",
       "NumberOfCars                                                                                                                                                                                                                                                                                                                                                                   [3 to 4, 1 vehicle, 2 vehicles, 5 to 8, more than 8]  \n",
       "Year                                                                                                                                                                                                                                                                                                                                                                                                             [1994, 1995, 1996]  \n",
       "BasePolicy                                                                                                                                                                                                                                                                                                                                                                                       [Liability, Collision, All Perils]  "
      ]
     },
     "execution_count": 59,
     "metadata": {},
     "output_type": "execute_result"
    }
   ],
   "source": [
    "X = summarize(df)\n",
    "X"
   ]
  },
  {
   "cell_type": "code",
   "execution_count": 60,
   "metadata": {},
   "outputs": [
    {
     "data": {
      "text/html": [
       "<div>\n",
       "<style scoped>\n",
       "    .dataframe tbody tr th:only-of-type {\n",
       "        vertical-align: middle;\n",
       "    }\n",
       "\n",
       "    .dataframe tbody tr th {\n",
       "        vertical-align: top;\n",
       "    }\n",
       "\n",
       "    .dataframe thead th {\n",
       "        text-align: right;\n",
       "    }\n",
       "</style>\n",
       "<table border=\"1\" class=\"dataframe\">\n",
       "  <thead>\n",
       "    <tr style=\"text-align: right;\">\n",
       "      <th></th>\n",
       "      <th>Data Type</th>\n",
       "      <th>N Unique</th>\n",
       "      <th>Unique</th>\n",
       "    </tr>\n",
       "  </thead>\n",
       "  <tbody>\n",
       "    <tr>\n",
       "      <th>AccidentArea</th>\n",
       "      <td>object</td>\n",
       "      <td>2</td>\n",
       "      <td>[Urban, Rural]</td>\n",
       "    </tr>\n",
       "    <tr>\n",
       "      <th>Sex</th>\n",
       "      <td>object</td>\n",
       "      <td>2</td>\n",
       "      <td>[Female, Male]</td>\n",
       "    </tr>\n",
       "    <tr>\n",
       "      <th>Fault</th>\n",
       "      <td>object</td>\n",
       "      <td>2</td>\n",
       "      <td>[Policy Holder, Third Party]</td>\n",
       "    </tr>\n",
       "    <tr>\n",
       "      <th>FraudFound_P</th>\n",
       "      <td>int64</td>\n",
       "      <td>2</td>\n",
       "      <td>[0, 1]</td>\n",
       "    </tr>\n",
       "    <tr>\n",
       "      <th>PoliceReportFiled</th>\n",
       "      <td>object</td>\n",
       "      <td>2</td>\n",
       "      <td>[No, Yes]</td>\n",
       "    </tr>\n",
       "    <tr>\n",
       "      <th>WitnessPresent</th>\n",
       "      <td>object</td>\n",
       "      <td>2</td>\n",
       "      <td>[No, Yes]</td>\n",
       "    </tr>\n",
       "    <tr>\n",
       "      <th>AgentType</th>\n",
       "      <td>object</td>\n",
       "      <td>2</td>\n",
       "      <td>[External, Internal]</td>\n",
       "    </tr>\n",
       "  </tbody>\n",
       "</table>\n",
       "</div>"
      ],
      "text/plain": [
       "                  Data Type  N Unique                        Unique\n",
       "AccidentArea         object         2                [Urban, Rural]\n",
       "Sex                  object         2                [Female, Male]\n",
       "Fault                object         2  [Policy Holder, Third Party]\n",
       "FraudFound_P          int64         2                        [0, 1]\n",
       "PoliceReportFiled    object         2                     [No, Yes]\n",
       "WitnessPresent       object         2                     [No, Yes]\n",
       "AgentType            object         2          [External, Internal]"
      ]
     },
     "execution_count": 60,
     "metadata": {},
     "output_type": "execute_result"
    }
   ],
   "source": [
    "X[X[\"N Unique\"] < 3]\n"
   ]
  },
  {
   "cell_type": "markdown",
   "metadata": {},
   "source": [
    "- \"Sex\", \"PoliceReportFiled\",... ,\"WitnessPresent\" are actually Boolen Types. Should be converted to 0 or 1."
   ]
  },
  {
   "cell_type": "markdown",
   "metadata": {},
   "source": [
    "## Target Variable Balance"
   ]
  },
  {
   "cell_type": "code",
   "execution_count": 61,
   "metadata": {},
   "outputs": [
    {
     "data": {
      "text/html": [
       "<div>\n",
       "<style scoped>\n",
       "    .dataframe tbody tr th:only-of-type {\n",
       "        vertical-align: middle;\n",
       "    }\n",
       "\n",
       "    .dataframe tbody tr th {\n",
       "        vertical-align: top;\n",
       "    }\n",
       "\n",
       "    .dataframe thead th {\n",
       "        text-align: right;\n",
       "    }\n",
       "</style>\n",
       "<table border=\"1\" class=\"dataframe\">\n",
       "  <thead>\n",
       "    <tr style=\"text-align: right;\">\n",
       "      <th></th>\n",
       "      <th>FraudFound_P</th>\n",
       "      <th>Count</th>\n",
       "    </tr>\n",
       "  </thead>\n",
       "  <tbody>\n",
       "    <tr>\n",
       "      <th>0</th>\n",
       "      <td>0</td>\n",
       "      <td>14497</td>\n",
       "    </tr>\n",
       "    <tr>\n",
       "      <th>1</th>\n",
       "      <td>1</td>\n",
       "      <td>923</td>\n",
       "    </tr>\n",
       "  </tbody>\n",
       "</table>\n",
       "</div>"
      ],
      "text/plain": [
       "   FraudFound_P  Count\n",
       "0             0  14497\n",
       "1             1    923"
      ]
     },
     "execution_count": 61,
     "metadata": {},
     "output_type": "execute_result"
    }
   ],
   "source": [
    "target_count = df['FraudFound_P'].value_counts().reset_index()\n",
    "target_count.columns = ['FraudFound_P', 'Count']\n",
    "target_count"
   ]
  },
  {
   "cell_type": "code",
   "execution_count": 62,
   "metadata": {},
   "outputs": [
    {
     "data": {
      "image/png": "[encoded data removed]",
      "text/plain": [
       "<Figure size 600x500 with 1 Axes>"
      ]
     },
     "metadata": {},
     "output_type": "display_data"
    }
   ],
   "source": [
    "# pie chart\n",
    "plt.figure(figsize=(6, 5))\n",
    "plt.pie(target_count['Count'], labels=target_count['FraudFound_P'], autopct='%1.1f%%', startangle=90)\n",
    "plt.title('Distribution of FraudFound_P')\n",
    "plt.axis('equal')\n",
    "\n",
    "plt.show()"
   ]
  },
  {
   "cell_type": "markdown",
   "metadata": {},
   "source": [
    "The Target Variable \"Fraud_Found_P\" is highly imbalanced."
   ]
  },
  {
   "cell_type": "markdown",
   "metadata": {},
   "source": [
    "## Fraud Detection by Feature"
   ]
  },
  {
   "cell_type": "code",
   "execution_count": 63,
   "metadata": {},
   "outputs": [],
   "source": [
    "def fraud_by_feature(feature, df, figsize=(8, 6)):\n",
    "    \"\"\"\n",
    "    Generate a bar chart showing the percentage of fraud cases by the given feature using Matplotlib.\n",
    "\n",
    "    Parameters:\n",
    "        feature (str): The column name to analyze.\n",
    "        df (DataFrame): The input DataFrame.\n",
    "        figsize (tuple): Size of the figure.\n",
    "\n",
    "    Returns:\n",
    "        None: Displays a bar chart.\n",
    "    \"\"\"\n",
    "    # Calculate total counts for the feature\n",
    "    total_counts = df[feature].value_counts()\n",
    "    \n",
    "    # Filter rows where FraudFound_P == 1\n",
    "    df_fraud = df[df['FraudFound_P'] == 1]\n",
    "    \n",
    "    # Calculate fraud counts for the feature\n",
    "    fraud_counts = df_fraud[feature].value_counts()\n",
    "    \n",
    "    # Calculate fraud percentages\n",
    "    fraud_percentages = (fraud_counts / total_counts * 100).fillna(0).sort_index()\n",
    "    \n",
    "    # Bar Chart\n",
    "    plt.figure(figsize=figsize)\n",
    "    plt.bar(fraud_percentages.index, fraud_percentages.values)\n",
    "    \n",
    "    plt.title(f'Fraud Detection by {feature} (%)')\n",
    "    plt.xlabel(feature)\n",
    "    plt.ylabel('Fraud Percentage')\n",
    "    \n",
    "    plt.tight_layout()\n",
    "    plt.show()\n",
    "    \n",
    "def histogram_plot(feature, df):\n",
    "    \"\"\"\n",
    "    Plots a histogram for the specified feature from the DataFrame.\n",
    "\n",
    "    Parameters:\n",
    "        df: The DataFrame containing the data.\n",
    "        feature: The column name to visualize.\n",
    "\n",
    "    Returns:\n",
    "        None\n",
    "    \"\"\"\n",
    "    plt.figure(figsize=(8, 6))\n",
    "    plt.hist(df[feature], bins=30, color='blue', edgecolor='black', alpha=0.7)\n",
    "    plt.title(f\"Histogram of {feature}\")\n",
    "    plt.xlabel(feature)\n",
    "    plt.ylabel(\"Frequency\")\n",
    "    plt.grid(axis='y', linestyle='--', alpha=0.7)\n",
    "    plt.show()\n",
    "\n",
    "def box_plot(feature, df):\n",
    "    \"\"\"\n",
    "    Plots a box plot for the specified feature from the DataFrame.\n",
    "\n",
    "    Parameters:\n",
    "        df: The DataFrame containing the data.\n",
    "        feature: The column name to visualize.\n",
    "\n",
    "    Returns:\n",
    "        None\n",
    "    \"\"\"\n",
    "    plt.figure(figsize=(8, 6))\n",
    "    plt.boxplot(df[feature], vert=False, patch_artist=True,\n",
    "                boxprops=dict(facecolor='lightblue', color='blue'),\n",
    "                medianprops=dict(color='red'))\n",
    "    plt.title(f\"Box Plot of {feature}\")\n",
    "    plt.xlabel(feature)\n",
    "    plt.grid(axis='x', linestyle='--', alpha=0.7)\n",
    "    plt.show()\n"
   ]
  },
  {
   "cell_type": "markdown",
   "metadata": {},
   "source": [
    "### by Sex"
   ]
  },
  {
   "cell_type": "code",
   "execution_count": 64,
   "metadata": {},
   "outputs": [
    {
     "data": {
      "image/png": "[encoded data removed]",
      "text/plain": [
       "<Figure size 400x600 with 1 Axes>"
      ]
     },
     "metadata": {},
     "output_type": "display_data"
    }
   ],
   "source": [
    "fraud_by_feature('Sex', df, figsize=(4,6))"
   ]
  },
  {
   "cell_type": "markdown",
   "metadata": {},
   "source": [
    "- males are significantly more likely to be involved in detected fraud cases compared to females"
   ]
  },
  {
   "cell_type": "markdown",
   "metadata": {},
   "source": [
    "### by Age"
   ]
  },
  {
   "cell_type": "code",
   "execution_count": 65,
   "metadata": {},
   "outputs": [
    {
     "data": {
      "image/png": "[encoded data removed]",
      "text/plain": [
       "<Figure size 800x600 with 1 Axes>"
      ]
     },
     "metadata": {},
     "output_type": "display_data"
    }
   ],
   "source": [
    "fraud_by_feature('Age', df)"
   ]
  },
  {
   "cell_type": "code",
   "execution_count": 66,
   "metadata": {},
   "outputs": [
    {
     "data": {
      "image/png": "[encoded data removed]",
      "text/plain": [
       "<Figure size 700x400 with 1 Axes>"
      ]
     },
     "metadata": {},
     "output_type": "display_data"
    }
   ],
   "source": [
    "fraud_by_feature('AgeOfPolicyHolder', df, figsize=(7,4))"
   ]
  },
  {
   "cell_type": "markdown",
   "metadata": {},
   "source": [
    "- Fraud is most frequently detected among teenagers and retired seniors\n",
    "- the 31 - 40 age group exhibits a high fraud rate in \"Age of Policy Holder\" feature."
   ]
  },
  {
   "cell_type": "code",
   "execution_count": 67,
   "metadata": {},
   "outputs": [
    {
     "data": {
      "image/png": "[encoded data removed]",
      "text/plain": [
       "<Figure size 800x600 with 1 Axes>"
      ]
     },
     "metadata": {},
     "output_type": "display_data"
    }
   ],
   "source": [
    "histogram_plot('Age', df)"
   ]
  },
  {
   "cell_type": "code",
   "execution_count": 68,
   "metadata": {},
   "outputs": [
    {
     "data": {
      "image/png": "[encoded data removed]",
      "text/plain": [
       "<Figure size 800x600 with 1 Axes>"
      ]
     },
     "metadata": {},
     "output_type": "display_data"
    }
   ],
   "source": [
    "box_plot_fig = box_plot('Age', df)"
   ]
  },
  {
   "cell_type": "markdown",
   "metadata": {},
   "source": [
    "- I decided to handle age = 0 in this feature and outlier values"
   ]
  },
  {
   "cell_type": "markdown",
   "metadata": {},
   "source": [
    "### by Vehicle"
   ]
  },
  {
   "cell_type": "code",
   "execution_count": 69,
   "metadata": {},
   "outputs": [
    {
     "data": {
      "image/png": "[encoded data removed]",
      "text/plain": [
       "<Figure size 1300x500 with 1 Axes>"
      ]
     },
     "metadata": {},
     "output_type": "display_data"
    }
   ],
   "source": [
    "fraud_by_feature('Make', df, figsize=(13,5))"
   ]
  },
  {
   "cell_type": "markdown",
   "metadata": {},
   "source": [
    "- Mercedes owners were more likely to be involved in fraud, with a rate nearly double that of the next highest group, Accura owners. \n",
    "- On the other hand, Porsche, Lexus, Jaguar, and Ferrari owners were never reported for fraud; all four of these vehicles are expensive."
   ]
  },
  {
   "cell_type": "code",
   "execution_count": 70,
   "metadata": {},
   "outputs": [
    {
     "data": {
      "image/png": "[encoded data removed]",
      "text/plain": [
       "<Figure size 1000x500 with 1 Axes>"
      ]
     },
     "metadata": {},
     "output_type": "display_data"
    }
   ],
   "source": [
    "fraud_by_feature('VehiclePrice', df, figsize=(10,5))"
   ]
  },
  {
   "cell_type": "markdown",
   "metadata": {},
   "source": [
    "- Fraud cases were most frequently detected in the most expensive or cheapest vehicles."
   ]
  },
  {
   "cell_type": "markdown",
   "metadata": {},
   "source": [
    "- The above results show that I decided to divide into 2 categories:\n",
    "\n",
    "    - the highest fraud rates: ('40000 to 59000', '40000 to 59000','more than 69000') \n",
    "    - the lowest fraud rate    : ('20000 to 29000', '30000 to 39000', '60000 to 69000')"
   ]
  },
  {
   "cell_type": "code",
   "execution_count": 71,
   "metadata": {},
   "outputs": [
    {
     "data": {
      "image/png": "[encoded data removed]",
      "text/plain": [
       "<Figure size 1100x500 with 1 Axes>"
      ]
     },
     "metadata": {},
     "output_type": "display_data"
    }
   ],
   "source": [
    "fraud_by_feature('AgeOfVehicle', df, figsize=(11,5))"
   ]
  },
  {
   "cell_type": "markdown",
   "metadata": {},
   "source": [
    "- The “Age of Vehicle” feature can actually be reclassified into 3 categories: \n",
    "    - Highest Fraud : ('3 years', '4 years', 'new')\n",
    "    - Medium Fraud  : ('5 years', '6 years')\n",
    "    - Low Fraud     : ('2 years', '7 years', 'more than 7')"
   ]
  },
  {
   "cell_type": "markdown",
   "metadata": {},
   "source": [
    "### by Policy"
   ]
  },
  {
   "cell_type": "code",
   "execution_count": 72,
   "metadata": {},
   "outputs": [
    {
     "data": {
      "image/png": "[encoded data removed]",
      "text/plain": [
       "<Figure size 400x500 with 1 Axes>"
      ]
     },
     "metadata": {},
     "output_type": "display_data"
    }
   ],
   "source": [
    "fraud_by_feature('BasePolicy', df, figsize=(4,5))"
   ]
  },
  {
   "cell_type": "code",
   "execution_count": 73,
   "metadata": {},
   "outputs": [
    {
     "data": {
      "image/png": "[encoded data removed]",
      "text/plain": [
       "<Figure size 1300x800 with 1 Axes>"
      ]
     },
     "metadata": {},
     "output_type": "display_data"
    }
   ],
   "source": [
    "fraud_by_feature('PolicyType', df, figsize=(13,8))"
   ]
  },
  {
   "cell_type": "markdown",
   "metadata": {},
   "source": [
    "- Fraud cases were detected most frequently under “All Risks”. For specific policy types, “Sports-Collection” had the highest fraud detection rate."
   ]
  },
  {
   "cell_type": "markdown",
   "metadata": {},
   "source": [
    "### by Month"
   ]
  },
  {
   "cell_type": "code",
   "execution_count": 74,
   "metadata": {},
   "outputs": [
    {
     "data": {
      "image/png": "[encoded data removed]",
      "text/plain": [
       "<Figure size 1300x800 with 1 Axes>"
      ]
     },
     "metadata": {},
     "output_type": "display_data"
    }
   ],
   "source": [
    "fraud_by_feature('Month', df, figsize=(13,8))"
   ]
  },
  {
   "cell_type": "code",
   "execution_count": 75,
   "metadata": {},
   "outputs": [
    {
     "data": {
      "image/png": "[encoded data removed]",
      "text/plain": [
       "<Figure size 1300x800 with 1 Axes>"
      ]
     },
     "metadata": {},
     "output_type": "display_data"
    }
   ],
   "source": [
    "fraud_by_feature('MonthClaimed', df, figsize=(13,8))"
   ]
  },
  {
   "cell_type": "markdown",
   "metadata": {},
   "source": [
    "- Overall, both are similar and not too different, so you don't need both."
   ]
  },
  {
   "cell_type": "markdown",
   "metadata": {},
   "source": [
    "# **Data Preprocessing**"
   ]
  },
  {
   "cell_type": "code",
   "execution_count": 76,
   "metadata": {},
   "outputs": [],
   "source": [
    "df_pre = df.copy()"
   ]
  },
  {
   "cell_type": "markdown",
   "metadata": {},
   "source": [
    "## Data Transformation"
   ]
  },
  {
   "cell_type": "markdown",
   "metadata": {},
   "source": [
    "### Binary Variable\n",
    "\n",
    "- AccidentArea, Sex, Fault, PoliceReportFiled, WitnessPresent, AgentType\n",
    "\n",
    "These features have only two unique values.\n",
    "Therefore, I applied Label Encoding to map them to 0 and 1."
   ]
  },
  {
   "cell_type": "code",
   "execution_count": 77,
   "metadata": {},
   "outputs": [
    {
     "data": {
      "text/plain": [
       "['AccidentArea',\n",
       " 'Sex',\n",
       " 'Fault',\n",
       " 'PoliceReportFiled',\n",
       " 'WitnessPresent',\n",
       " 'AgentType']"
      ]
     },
     "execution_count": 77,
     "metadata": {},
     "output_type": "execute_result"
    }
   ],
   "source": [
    "binary_columns = [col for col in df_pre.columns if df_pre[col].nunique() < 3 and col != 'FraudFound_P']\n",
    "binary_columns"
   ]
  },
  {
   "cell_type": "code",
   "execution_count": 78,
   "metadata": {},
   "outputs": [],
   "source": [
    "def binary_variable(feature, df):\n",
    "    \n",
    "    encoder = LabelEncoder()\n",
    "    df_copy = df.copy()\n",
    "    for i  in feature:\n",
    "        df_copy[i] = encoder.fit_transform(df_copy[i])\n",
    "        print('Mapping: ', dict(zip(encoder.classes_, encoder.transform(encoder.classes_))))\n",
    "    \n",
    "    return df_copy\n"
   ]
  },
  {
   "cell_type": "code",
   "execution_count": 79,
   "metadata": {},
   "outputs": [
    {
     "name": "stdout",
     "output_type": "stream",
     "text": [
      "Mapping:  {'Rural': np.int64(0), 'Urban': np.int64(1)}\n",
      "Mapping:  {'Female': np.int64(0), 'Male': np.int64(1)}\n",
      "Mapping:  {'Policy Holder': np.int64(0), 'Third Party': np.int64(1)}\n",
      "Mapping:  {'No': np.int64(0), 'Yes': np.int64(1)}\n",
      "Mapping:  {'No': np.int64(0), 'Yes': np.int64(1)}\n",
      "Mapping:  {'External': np.int64(0), 'Internal': np.int64(1)}\n"
     ]
    }
   ],
   "source": [
    "df_pre = binary_variable(binary_columns,df_pre)"
   ]
  },
  {
   "cell_type": "markdown",
   "metadata": {},
   "source": [
    "### Encoding Categorical Variables\n",
    "- Based on the results of Exploratory Data Analysis"
   ]
  },
  {
   "cell_type": "code",
   "execution_count": 80,
   "metadata": {},
   "outputs": [],
   "source": [
    "def encoding_feature(feature_select, df, mapping):\n",
    "\n",
    "    df_copy = df.copy()\n",
    "    df_copy[feature_select] = df_copy[feature_select].map(mapping)\n",
    "    return df_copy\n"
   ]
  },
  {
   "cell_type": "code",
   "execution_count": 81,
   "metadata": {},
   "outputs": [
    {
     "name": "stdout",
     "output_type": "stream",
     "text": [
      "VehiclePrice: ['more than 69000' '20000 to 29000' '30000 to 39000' 'less than 20000'\n",
      " '40000 to 59000' '60000 to 69000']\n",
      "AgeOfVehicle: ['3 years' '6 years' '7 years' 'more than 7' '5 years' 'new' '4 years'\n",
      " '2 years']\n",
      "BasePolicy: ['Liability' 'Collision' 'All Perils']\n"
     ]
    }
   ],
   "source": [
    "feature_select = ['VehiclePrice', 'AgeOfVehicle', 'BasePolicy']\n",
    "for col in feature_select:\n",
    "    print(f\"{col}: {df_pre[col].unique()}\")"
   ]
  },
  {
   "cell_type": "code",
   "execution_count": 82,
   "metadata": {},
   "outputs": [],
   "source": [
    "vehicleprice_mapping = {'more than 69000': 1, '20000 to 29000': 0,  '30000 to 39000': 0, 'less than 20000': 1, '40000 to 59000': 1, '60000 to 69000': 0}\n",
    "ageofvehicle_mapping = {'3 years': 2, '6 years': 1, '7 years': 0, 'more than 7': 0, '5 years': 1, 'new': 2, '4 years': 2, '2 years':0}\n",
    "basepolicy_mapping   = {'Liability': 0, 'Collision': 1, 'All Perils': 2}"
   ]
  },
  {
   "cell_type": "code",
   "execution_count": 83,
   "metadata": {},
   "outputs": [
    {
     "data": {
      "text/html": [
       "<div>\n",
       "<style scoped>\n",
       "    .dataframe tbody tr th:only-of-type {\n",
       "        vertical-align: middle;\n",
       "    }\n",
       "\n",
       "    .dataframe tbody tr th {\n",
       "        vertical-align: top;\n",
       "    }\n",
       "\n",
       "    .dataframe thead th {\n",
       "        text-align: right;\n",
       "    }\n",
       "</style>\n",
       "<table border=\"1\" class=\"dataframe\">\n",
       "  <thead>\n",
       "    <tr style=\"text-align: right;\">\n",
       "      <th></th>\n",
       "      <th>Month</th>\n",
       "      <th>WeekOfMonth</th>\n",
       "      <th>DayOfWeek</th>\n",
       "      <th>Make</th>\n",
       "      <th>AccidentArea</th>\n",
       "      <th>DayOfWeekClaimed</th>\n",
       "      <th>MonthClaimed</th>\n",
       "      <th>WeekOfMonthClaimed</th>\n",
       "      <th>Sex</th>\n",
       "      <th>MaritalStatus</th>\n",
       "      <th>...</th>\n",
       "      <th>AgeOfVehicle</th>\n",
       "      <th>AgeOfPolicyHolder</th>\n",
       "      <th>PoliceReportFiled</th>\n",
       "      <th>WitnessPresent</th>\n",
       "      <th>AgentType</th>\n",
       "      <th>NumberOfSuppliments</th>\n",
       "      <th>AddressChange_Claim</th>\n",
       "      <th>NumberOfCars</th>\n",
       "      <th>Year</th>\n",
       "      <th>BasePolicy</th>\n",
       "    </tr>\n",
       "  </thead>\n",
       "  <tbody>\n",
       "    <tr>\n",
       "      <th>0</th>\n",
       "      <td>Dec</td>\n",
       "      <td>5</td>\n",
       "      <td>Wednesday</td>\n",
       "      <td>Honda</td>\n",
       "      <td>1</td>\n",
       "      <td>Tuesday</td>\n",
       "      <td>Jan</td>\n",
       "      <td>1</td>\n",
       "      <td>0</td>\n",
       "      <td>Single</td>\n",
       "      <td>...</td>\n",
       "      <td>2</td>\n",
       "      <td>26 to 30</td>\n",
       "      <td>0</td>\n",
       "      <td>0</td>\n",
       "      <td>0</td>\n",
       "      <td>none</td>\n",
       "      <td>1 year</td>\n",
       "      <td>3 to 4</td>\n",
       "      <td>1994</td>\n",
       "      <td>0</td>\n",
       "    </tr>\n",
       "    <tr>\n",
       "      <th>1</th>\n",
       "      <td>Jan</td>\n",
       "      <td>3</td>\n",
       "      <td>Wednesday</td>\n",
       "      <td>Honda</td>\n",
       "      <td>1</td>\n",
       "      <td>Monday</td>\n",
       "      <td>Jan</td>\n",
       "      <td>4</td>\n",
       "      <td>1</td>\n",
       "      <td>Single</td>\n",
       "      <td>...</td>\n",
       "      <td>1</td>\n",
       "      <td>31 to 35</td>\n",
       "      <td>1</td>\n",
       "      <td>0</td>\n",
       "      <td>0</td>\n",
       "      <td>none</td>\n",
       "      <td>no change</td>\n",
       "      <td>1 vehicle</td>\n",
       "      <td>1994</td>\n",
       "      <td>1</td>\n",
       "    </tr>\n",
       "    <tr>\n",
       "      <th>2</th>\n",
       "      <td>Oct</td>\n",
       "      <td>5</td>\n",
       "      <td>Friday</td>\n",
       "      <td>Honda</td>\n",
       "      <td>1</td>\n",
       "      <td>Thursday</td>\n",
       "      <td>Nov</td>\n",
       "      <td>2</td>\n",
       "      <td>1</td>\n",
       "      <td>Married</td>\n",
       "      <td>...</td>\n",
       "      <td>0</td>\n",
       "      <td>41 to 50</td>\n",
       "      <td>0</td>\n",
       "      <td>0</td>\n",
       "      <td>0</td>\n",
       "      <td>none</td>\n",
       "      <td>no change</td>\n",
       "      <td>1 vehicle</td>\n",
       "      <td>1994</td>\n",
       "      <td>1</td>\n",
       "    </tr>\n",
       "    <tr>\n",
       "      <th>3</th>\n",
       "      <td>Jun</td>\n",
       "      <td>2</td>\n",
       "      <td>Saturday</td>\n",
       "      <td>Toyota</td>\n",
       "      <td>0</td>\n",
       "      <td>Friday</td>\n",
       "      <td>Jul</td>\n",
       "      <td>1</td>\n",
       "      <td>1</td>\n",
       "      <td>Married</td>\n",
       "      <td>...</td>\n",
       "      <td>0</td>\n",
       "      <td>51 to 65</td>\n",
       "      <td>1</td>\n",
       "      <td>0</td>\n",
       "      <td>0</td>\n",
       "      <td>more than 5</td>\n",
       "      <td>no change</td>\n",
       "      <td>1 vehicle</td>\n",
       "      <td>1994</td>\n",
       "      <td>0</td>\n",
       "    </tr>\n",
       "    <tr>\n",
       "      <th>4</th>\n",
       "      <td>Jan</td>\n",
       "      <td>5</td>\n",
       "      <td>Monday</td>\n",
       "      <td>Honda</td>\n",
       "      <td>1</td>\n",
       "      <td>Tuesday</td>\n",
       "      <td>Feb</td>\n",
       "      <td>2</td>\n",
       "      <td>0</td>\n",
       "      <td>Single</td>\n",
       "      <td>...</td>\n",
       "      <td>1</td>\n",
       "      <td>31 to 35</td>\n",
       "      <td>0</td>\n",
       "      <td>0</td>\n",
       "      <td>0</td>\n",
       "      <td>none</td>\n",
       "      <td>no change</td>\n",
       "      <td>1 vehicle</td>\n",
       "      <td>1994</td>\n",
       "      <td>1</td>\n",
       "    </tr>\n",
       "  </tbody>\n",
       "</table>\n",
       "<p>5 rows × 33 columns</p>\n",
       "</div>"
      ],
      "text/plain": [
       "  Month  WeekOfMonth  DayOfWeek    Make  AccidentArea DayOfWeekClaimed  \\\n",
       "0   Dec            5  Wednesday   Honda             1          Tuesday   \n",
       "1   Jan            3  Wednesday   Honda             1           Monday   \n",
       "2   Oct            5     Friday   Honda             1         Thursday   \n",
       "3   Jun            2   Saturday  Toyota             0           Friday   \n",
       "4   Jan            5     Monday   Honda             1          Tuesday   \n",
       "\n",
       "  MonthClaimed  WeekOfMonthClaimed  Sex MaritalStatus  ...  AgeOfVehicle  \\\n",
       "0          Jan                   1    0        Single  ...             2   \n",
       "1          Jan                   4    1        Single  ...             1   \n",
       "2          Nov                   2    1       Married  ...             0   \n",
       "3          Jul                   1    1       Married  ...             0   \n",
       "4          Feb                   2    0        Single  ...             1   \n",
       "\n",
       "   AgeOfPolicyHolder PoliceReportFiled WitnessPresent  AgentType  \\\n",
       "0           26 to 30                 0              0          0   \n",
       "1           31 to 35                 1              0          0   \n",
       "2           41 to 50                 0              0          0   \n",
       "3           51 to 65                 1              0          0   \n",
       "4           31 to 35                 0              0          0   \n",
       "\n",
       "   NumberOfSuppliments  AddressChange_Claim  NumberOfCars  Year  BasePolicy  \n",
       "0                 none               1 year        3 to 4  1994           0  \n",
       "1                 none            no change     1 vehicle  1994           1  \n",
       "2                 none            no change     1 vehicle  1994           1  \n",
       "3          more than 5            no change     1 vehicle  1994           0  \n",
       "4                 none            no change     1 vehicle  1994           1  \n",
       "\n",
       "[5 rows x 33 columns]"
      ]
     },
     "execution_count": 83,
     "metadata": {},
     "output_type": "execute_result"
    }
   ],
   "source": [
    "df_pre = encoding_feature('VehiclePrice', df_pre, vehicleprice_mapping)\n",
    "df_pre = encoding_feature('AgeOfVehicle', df_pre, ageofvehicle_mapping)\n",
    "df_pre = encoding_feature('BasePolicy', df_pre, basepolicy_mapping)\n",
    "df_pre.head(5)"
   ]
  },
  {
   "cell_type": "markdown",
   "metadata": {},
   "source": [
    "### Data Reduction\n",
    "- Drop \"Month\" because It similar feature \"MonthClaimed\"\n",
    "- And drop other features related to \"Date\""
   ]
  },
  {
   "cell_type": "code",
   "execution_count": 84,
   "metadata": {},
   "outputs": [],
   "source": [
    "useless_columns = ['Month', 'WeekOfMonth', 'DayOfWeek', 'DayOfWeekClaimed', 'WeekOfMonthClaimed', 'PolicyNumber']\n",
    "df_pre_v1 = df_pre.drop(columns=useless_columns, axis=1)"
   ]
  },
  {
   "cell_type": "code",
   "execution_count": 85,
   "metadata": {},
   "outputs": [
    {
     "data": {
      "text/plain": [
       "(15420, 27)"
      ]
     },
     "execution_count": 85,
     "metadata": {},
     "output_type": "execute_result"
    }
   ],
   "source": [
    "df_pre_v1.shape"
   ]
  },
  {
   "cell_type": "markdown",
   "metadata": {},
   "source": [
    "### One-hot Encoding"
   ]
  },
  {
   "cell_type": "markdown",
   "metadata": {},
   "source": [
    "- normalize objects"
   ]
  },
  {
   "cell_type": "code",
   "execution_count": 86,
   "metadata": {},
   "outputs": [
    {
     "name": "stdout",
     "output_type": "stream",
     "text": [
      "Index(['Make', 'MonthClaimed', 'MaritalStatus', 'PolicyType',\n",
      "       'VehicleCategory', 'Days_Policy_Accident', 'Days_Policy_Claim',\n",
      "       'PastNumberOfClaims', 'AgeOfPolicyHolder', 'NumberOfSuppliments',\n",
      "       'AddressChange_Claim', 'NumberOfCars'],\n",
      "      dtype='object') ,\n",
      " 12\n"
     ]
    }
   ],
   "source": [
    "feature_obj = df_pre_v1.select_dtypes(include=['object']).columns\n",
    "print(f\"{feature_obj} ,\\n {len(feature_obj)}\")"
   ]
  },
  {
   "cell_type": "code",
   "execution_count": 87,
   "metadata": {},
   "outputs": [
    {
     "name": "stdout",
     "output_type": "stream",
     "text": [
      "<class 'pandas.core.frame.DataFrame'>\n",
      "RangeIndex: 15420 entries, 0 to 15419\n",
      "Data columns (total 99 columns):\n",
      " #   Column                              Non-Null Count  Dtype\n",
      "---  ------                              --------------  -----\n",
      " 0   AccidentArea                        15420 non-null  int64\n",
      " 1   Sex                                 15420 non-null  int64\n",
      " 2   Age                                 15420 non-null  int64\n",
      " 3   Fault                               15420 non-null  int64\n",
      " 4   VehiclePrice                        15420 non-null  int64\n",
      " 5   FraudFound_P                        15420 non-null  int64\n",
      " 6   RepNumber                           15420 non-null  int64\n",
      " 7   Deductible                          15420 non-null  int64\n",
      " 8   DriverRating                        15420 non-null  int64\n",
      " 9   AgeOfVehicle                        15420 non-null  int64\n",
      " 10  PoliceReportFiled                   15420 non-null  int64\n",
      " 11  WitnessPresent                      15420 non-null  int64\n",
      " 12  AgentType                           15420 non-null  int64\n",
      " 13  Year                                15420 non-null  int64\n",
      " 14  BasePolicy                          15420 non-null  int64\n",
      " 15  Make_Accura                         15420 non-null  bool \n",
      " 16  Make_BMW                            15420 non-null  bool \n",
      " 17  Make_Chevrolet                      15420 non-null  bool \n",
      " 18  Make_Dodge                          15420 non-null  bool \n",
      " 19  Make_Ferrari                        15420 non-null  bool \n",
      " 20  Make_Ford                           15420 non-null  bool \n",
      " 21  Make_Honda                          15420 non-null  bool \n",
      " 22  Make_Jaguar                         15420 non-null  bool \n",
      " 23  Make_Lexus                          15420 non-null  bool \n",
      " 24  Make_Mazda                          15420 non-null  bool \n",
      " 25  Make_Mecedes                        15420 non-null  bool \n",
      " 26  Make_Mercury                        15420 non-null  bool \n",
      " 27  Make_Nisson                         15420 non-null  bool \n",
      " 28  Make_Pontiac                        15420 non-null  bool \n",
      " 29  Make_Porche                         15420 non-null  bool \n",
      " 30  Make_Saab                           15420 non-null  bool \n",
      " 31  Make_Saturn                         15420 non-null  bool \n",
      " 32  Make_Toyota                         15420 non-null  bool \n",
      " 33  Make_VW                             15420 non-null  bool \n",
      " 34  MonthClaimed_0                      15420 non-null  bool \n",
      " 35  MonthClaimed_Apr                    15420 non-null  bool \n",
      " 36  MonthClaimed_Aug                    15420 non-null  bool \n",
      " 37  MonthClaimed_Dec                    15420 non-null  bool \n",
      " 38  MonthClaimed_Feb                    15420 non-null  bool \n",
      " 39  MonthClaimed_Jan                    15420 non-null  bool \n",
      " 40  MonthClaimed_Jul                    15420 non-null  bool \n",
      " 41  MonthClaimed_Jun                    15420 non-null  bool \n",
      " 42  MonthClaimed_Mar                    15420 non-null  bool \n",
      " 43  MonthClaimed_May                    15420 non-null  bool \n",
      " 44  MonthClaimed_Nov                    15420 non-null  bool \n",
      " 45  MonthClaimed_Oct                    15420 non-null  bool \n",
      " 46  MonthClaimed_Sep                    15420 non-null  bool \n",
      " 47  MaritalStatus_Divorced              15420 non-null  bool \n",
      " 48  MaritalStatus_Married               15420 non-null  bool \n",
      " 49  MaritalStatus_Single                15420 non-null  bool \n",
      " 50  MaritalStatus_Widow                 15420 non-null  bool \n",
      " 51  PolicyType_Sedan - All Perils       15420 non-null  bool \n",
      " 52  PolicyType_Sedan - Collision        15420 non-null  bool \n",
      " 53  PolicyType_Sedan - Liability        15420 non-null  bool \n",
      " 54  PolicyType_Sport - All Perils       15420 non-null  bool \n",
      " 55  PolicyType_Sport - Collision        15420 non-null  bool \n",
      " 56  PolicyType_Sport - Liability        15420 non-null  bool \n",
      " 57  PolicyType_Utility - All Perils     15420 non-null  bool \n",
      " 58  PolicyType_Utility - Collision      15420 non-null  bool \n",
      " 59  PolicyType_Utility - Liability      15420 non-null  bool \n",
      " 60  VehicleCategory_Sedan               15420 non-null  bool \n",
      " 61  VehicleCategory_Sport               15420 non-null  bool \n",
      " 62  VehicleCategory_Utility             15420 non-null  bool \n",
      " 63  Days_Policy_Accident_1 to 7         15420 non-null  bool \n",
      " 64  Days_Policy_Accident_15 to 30       15420 non-null  bool \n",
      " 65  Days_Policy_Accident_8 to 15        15420 non-null  bool \n",
      " 66  Days_Policy_Accident_more than 30   15420 non-null  bool \n",
      " 67  Days_Policy_Accident_none           15420 non-null  bool \n",
      " 68  Days_Policy_Claim_15 to 30          15420 non-null  bool \n",
      " 69  Days_Policy_Claim_8 to 15           15420 non-null  bool \n",
      " 70  Days_Policy_Claim_more than 30      15420 non-null  bool \n",
      " 71  Days_Policy_Claim_none              15420 non-null  bool \n",
      " 72  PastNumberOfClaims_1                15420 non-null  bool \n",
      " 73  PastNumberOfClaims_2 to 4           15420 non-null  bool \n",
      " 74  PastNumberOfClaims_more than 4      15420 non-null  bool \n",
      " 75  PastNumberOfClaims_none             15420 non-null  bool \n",
      " 76  AgeOfPolicyHolder_16 to 17          15420 non-null  bool \n",
      " 77  AgeOfPolicyHolder_18 to 20          15420 non-null  bool \n",
      " 78  AgeOfPolicyHolder_21 to 25          15420 non-null  bool \n",
      " 79  AgeOfPolicyHolder_26 to 30          15420 non-null  bool \n",
      " 80  AgeOfPolicyHolder_31 to 35          15420 non-null  bool \n",
      " 81  AgeOfPolicyHolder_36 to 40          15420 non-null  bool \n",
      " 82  AgeOfPolicyHolder_41 to 50          15420 non-null  bool \n",
      " 83  AgeOfPolicyHolder_51 to 65          15420 non-null  bool \n",
      " 84  AgeOfPolicyHolder_over 65           15420 non-null  bool \n",
      " 85  NumberOfSuppliments_1 to 2          15420 non-null  bool \n",
      " 86  NumberOfSuppliments_3 to 5          15420 non-null  bool \n",
      " 87  NumberOfSuppliments_more than 5     15420 non-null  bool \n",
      " 88  NumberOfSuppliments_none            15420 non-null  bool \n",
      " 89  AddressChange_Claim_1 year          15420 non-null  bool \n",
      " 90  AddressChange_Claim_2 to 3 years    15420 non-null  bool \n",
      " 91  AddressChange_Claim_4 to 8 years    15420 non-null  bool \n",
      " 92  AddressChange_Claim_no change       15420 non-null  bool \n",
      " 93  AddressChange_Claim_under 6 months  15420 non-null  bool \n",
      " 94  NumberOfCars_1 vehicle              15420 non-null  bool \n",
      " 95  NumberOfCars_2 vehicles             15420 non-null  bool \n",
      " 96  NumberOfCars_3 to 4                 15420 non-null  bool \n",
      " 97  NumberOfCars_5 to 8                 15420 non-null  bool \n",
      " 98  NumberOfCars_more than 8            15420 non-null  bool \n",
      "dtypes: bool(84), int64(15)\n",
      "memory usage: 3.0 MB\n"
     ]
    }
   ],
   "source": [
    "df_pre_v2 = pd.get_dummies(df_pre_v1,feature_obj)\n",
    "df_pre_v2.info()"
   ]
  },
  {
   "cell_type": "markdown",
   "metadata": {},
   "source": [
    "- Now, all features dtype are int or bool"
   ]
  },
  {
   "cell_type": "markdown",
   "metadata": {},
   "source": [
    "### Data Reduction"
   ]
  },
  {
   "cell_type": "code",
   "execution_count": 88,
   "metadata": {},
   "outputs": [
    {
     "name": "stdout",
     "output_type": "stream",
     "text": [
      "['Make_Accura', 'Make_BMW', 'Make_Chevrolet', 'Make_Dodge', 'Make_Ferrari', 'Make_Ford', 'Make_Honda', 'Make_Jaguar', 'Make_Lexus', 'Make_Mazda', 'Make_Mecedes', 'Make_Mercury', 'Make_Nisson', 'Make_Pontiac', 'Make_Porche', 'Make_Saab', 'Make_Saturn', 'Make_Toyota', 'Make_VW', 'MonthClaimed_0', 'MonthClaimed_Apr', 'MonthClaimed_Aug', 'MonthClaimed_Dec', 'MonthClaimed_Feb', 'MonthClaimed_Jan', 'MonthClaimed_Jul', 'MonthClaimed_Jun', 'MonthClaimed_Mar', 'MonthClaimed_May', 'MonthClaimed_Nov', 'MonthClaimed_Oct', 'MonthClaimed_Sep', 'MaritalStatus_Divorced', 'MaritalStatus_Married', 'MaritalStatus_Single', 'MaritalStatus_Widow', 'PolicyType_Sedan - All Perils', 'PolicyType_Sedan - Collision', 'PolicyType_Sedan - Liability', 'PolicyType_Sport - All Perils', 'PolicyType_Sport - Collision', 'PolicyType_Sport - Liability', 'PolicyType_Utility - All Perils', 'PolicyType_Utility - Collision', 'PolicyType_Utility - Liability', 'VehicleCategory_Sedan', 'VehicleCategory_Sport', 'VehicleCategory_Utility', 'Days_Policy_Accident_1 to 7', 'Days_Policy_Accident_15 to 30', 'Days_Policy_Accident_8 to 15', 'Days_Policy_Accident_more than 30', 'Days_Policy_Accident_none', 'Days_Policy_Claim_15 to 30', 'Days_Policy_Claim_8 to 15', 'Days_Policy_Claim_more than 30', 'Days_Policy_Claim_none', 'PastNumberOfClaims_1', 'PastNumberOfClaims_2 to 4', 'PastNumberOfClaims_more than 4', 'PastNumberOfClaims_none', 'AgeOfPolicyHolder_16 to 17', 'AgeOfPolicyHolder_18 to 20', 'AgeOfPolicyHolder_21 to 25', 'AgeOfPolicyHolder_26 to 30', 'AgeOfPolicyHolder_31 to 35', 'AgeOfPolicyHolder_36 to 40', 'AgeOfPolicyHolder_41 to 50', 'AgeOfPolicyHolder_51 to 65', 'AgeOfPolicyHolder_over 65', 'NumberOfSuppliments_1 to 2', 'NumberOfSuppliments_3 to 5', 'NumberOfSuppliments_more than 5', 'NumberOfSuppliments_none', 'AddressChange_Claim_1 year', 'AddressChange_Claim_2 to 3 years', 'AddressChange_Claim_4 to 8 years', 'AddressChange_Claim_no change', 'AddressChange_Claim_under 6 months', 'NumberOfCars_1 vehicle', 'NumberOfCars_2 vehicles', 'NumberOfCars_3 to 4', 'NumberOfCars_5 to 8', 'NumberOfCars_more than 8'],\n",
      " 84\n"
     ]
    }
   ],
   "source": [
    "OneHotEncoded_columns = [col for col in df_pre_v2.columns if '_' in col]\n",
    "OneHotEncoded_columns.remove(\"FraudFound_P\")\n",
    "print(f\"{OneHotEncoded_columns},\\n {len(OneHotEncoded_columns)}\")"
   ]
  },
  {
   "cell_type": "code",
   "execution_count": 89,
   "metadata": {},
   "outputs": [
    {
     "data": {
      "text/plain": [
       "9"
      ]
     },
     "execution_count": 89,
     "metadata": {},
     "output_type": "execute_result"
    }
   ],
   "source": [
    "const_feature = []\n",
    "\n",
    "for i in OneHotEncoded_columns:\n",
    "    if df_pre_v2[i].sum() <= 5:\n",
    "        const_feature.append(i)\n",
    "\n",
    "len(const_feature)"
   ]
  },
  {
   "cell_type": "code",
   "execution_count": 90,
   "metadata": {},
   "outputs": [
    {
     "name": "stdout",
     "output_type": "stream",
     "text": [
      "<class 'pandas.core.frame.DataFrame'>\n",
      "RangeIndex: 15420 entries, 0 to 15419\n",
      "Data columns (total 90 columns):\n",
      " #   Column                             Non-Null Count  Dtype\n",
      "---  ------                             --------------  -----\n",
      " 0   AccidentArea                       15420 non-null  int64\n",
      " 1   Sex                                15420 non-null  int64\n",
      " 2   Age                                15420 non-null  int64\n",
      " 3   Fault                              15420 non-null  int64\n",
      " 4   VehiclePrice                       15420 non-null  int64\n",
      " 5   FraudFound_P                       15420 non-null  int64\n",
      " 6   RepNumber                          15420 non-null  int64\n",
      " 7   Deductible                         15420 non-null  int64\n",
      " 8   DriverRating                       15420 non-null  int64\n",
      " 9   AgeOfVehicle                       15420 non-null  int64\n",
      " 10  PoliceReportFiled                  15420 non-null  int64\n",
      " 11  WitnessPresent                     15420 non-null  int64\n",
      " 12  AgentType                          15420 non-null  int64\n",
      " 13  Year                               15420 non-null  int64\n",
      " 14  BasePolicy                         15420 non-null  int64\n",
      " 15  Make_Accura                        15420 non-null  bool \n",
      " 16  Make_BMW                           15420 non-null  bool \n",
      " 17  Make_Chevrolet                     15420 non-null  bool \n",
      " 18  Make_Dodge                         15420 non-null  bool \n",
      " 19  Make_Ford                          15420 non-null  bool \n",
      " 20  Make_Honda                         15420 non-null  bool \n",
      " 21  Make_Jaguar                        15420 non-null  bool \n",
      " 22  Make_Mazda                         15420 non-null  bool \n",
      " 23  Make_Mercury                       15420 non-null  bool \n",
      " 24  Make_Nisson                        15420 non-null  bool \n",
      " 25  Make_Pontiac                       15420 non-null  bool \n",
      " 26  Make_Saab                          15420 non-null  bool \n",
      " 27  Make_Saturn                        15420 non-null  bool \n",
      " 28  Make_Toyota                        15420 non-null  bool \n",
      " 29  Make_VW                            15420 non-null  bool \n",
      " 30  MonthClaimed_Apr                   15420 non-null  bool \n",
      " 31  MonthClaimed_Aug                   15420 non-null  bool \n",
      " 32  MonthClaimed_Dec                   15420 non-null  bool \n",
      " 33  MonthClaimed_Feb                   15420 non-null  bool \n",
      " 34  MonthClaimed_Jan                   15420 non-null  bool \n",
      " 35  MonthClaimed_Jul                   15420 non-null  bool \n",
      " 36  MonthClaimed_Jun                   15420 non-null  bool \n",
      " 37  MonthClaimed_Mar                   15420 non-null  bool \n",
      " 38  MonthClaimed_May                   15420 non-null  bool \n",
      " 39  MonthClaimed_Nov                   15420 non-null  bool \n",
      " 40  MonthClaimed_Oct                   15420 non-null  bool \n",
      " 41  MonthClaimed_Sep                   15420 non-null  bool \n",
      " 42  MaritalStatus_Divorced             15420 non-null  bool \n",
      " 43  MaritalStatus_Married              15420 non-null  bool \n",
      " 44  MaritalStatus_Single               15420 non-null  bool \n",
      " 45  MaritalStatus_Widow                15420 non-null  bool \n",
      " 46  PolicyType_Sedan - All Perils      15420 non-null  bool \n",
      " 47  PolicyType_Sedan - Collision       15420 non-null  bool \n",
      " 48  PolicyType_Sedan - Liability       15420 non-null  bool \n",
      " 49  PolicyType_Sport - All Perils      15420 non-null  bool \n",
      " 50  PolicyType_Sport - Collision       15420 non-null  bool \n",
      " 51  PolicyType_Utility - All Perils    15420 non-null  bool \n",
      " 52  PolicyType_Utility - Collision     15420 non-null  bool \n",
      " 53  PolicyType_Utility - Liability     15420 non-null  bool \n",
      " 54  VehicleCategory_Sedan              15420 non-null  bool \n",
      " 55  VehicleCategory_Sport              15420 non-null  bool \n",
      " 56  VehicleCategory_Utility            15420 non-null  bool \n",
      " 57  Days_Policy_Accident_1 to 7        15420 non-null  bool \n",
      " 58  Days_Policy_Accident_15 to 30      15420 non-null  bool \n",
      " 59  Days_Policy_Accident_8 to 15       15420 non-null  bool \n",
      " 60  Days_Policy_Accident_more than 30  15420 non-null  bool \n",
      " 61  Days_Policy_Accident_none          15420 non-null  bool \n",
      " 62  Days_Policy_Claim_15 to 30         15420 non-null  bool \n",
      " 63  Days_Policy_Claim_8 to 15          15420 non-null  bool \n",
      " 64  Days_Policy_Claim_more than 30     15420 non-null  bool \n",
      " 65  PastNumberOfClaims_1               15420 non-null  bool \n",
      " 66  PastNumberOfClaims_2 to 4          15420 non-null  bool \n",
      " 67  PastNumberOfClaims_more than 4     15420 non-null  bool \n",
      " 68  PastNumberOfClaims_none            15420 non-null  bool \n",
      " 69  AgeOfPolicyHolder_16 to 17         15420 non-null  bool \n",
      " 70  AgeOfPolicyHolder_18 to 20         15420 non-null  bool \n",
      " 71  AgeOfPolicyHolder_21 to 25         15420 non-null  bool \n",
      " 72  AgeOfPolicyHolder_26 to 30         15420 non-null  bool \n",
      " 73  AgeOfPolicyHolder_31 to 35         15420 non-null  bool \n",
      " 74  AgeOfPolicyHolder_36 to 40         15420 non-null  bool \n",
      " 75  AgeOfPolicyHolder_41 to 50         15420 non-null  bool \n",
      " 76  AgeOfPolicyHolder_51 to 65         15420 non-null  bool \n",
      " 77  AgeOfPolicyHolder_over 65          15420 non-null  bool \n",
      " 78  NumberOfSuppliments_1 to 2         15420 non-null  bool \n",
      " 79  NumberOfSuppliments_3 to 5         15420 non-null  bool \n",
      " 80  NumberOfSuppliments_more than 5    15420 non-null  bool \n",
      " 81  NumberOfSuppliments_none           15420 non-null  bool \n",
      " 82  AddressChange_Claim_1 year         15420 non-null  bool \n",
      " 83  AddressChange_Claim_2 to 3 years   15420 non-null  bool \n",
      " 84  AddressChange_Claim_4 to 8 years   15420 non-null  bool \n",
      " 85  AddressChange_Claim_no change      15420 non-null  bool \n",
      " 86  NumberOfCars_1 vehicle             15420 non-null  bool \n",
      " 87  NumberOfCars_2 vehicles            15420 non-null  bool \n",
      " 88  NumberOfCars_3 to 4                15420 non-null  bool \n",
      " 89  NumberOfCars_5 to 8                15420 non-null  bool \n",
      "dtypes: bool(75), int64(15)\n",
      "memory usage: 2.9 MB\n"
     ]
    }
   ],
   "source": [
    "df_pre_v2.drop(columns=const_feature, axis=1, inplace=True)\n",
    "df_pre_v2.info()"
   ]
  },
  {
   "cell_type": "markdown",
   "metadata": {},
   "source": [
    "### Outlier\n",
    "- Now, I decided to handle the 0 and oulier values ​​of Age, the reason being that Age is the only value that the feature is continuous."
   ]
  },
  {
   "cell_type": "code",
   "execution_count": 91,
   "metadata": {},
   "outputs": [],
   "source": [
    "def remove_outliers_iqr(feature, df):\n",
    "    \"\"\"\n",
    "    Removes outliers from a DataFrame column using the IQR method.\n",
    "    \n",
    "    Args:\n",
    "        feature (str): Name of the column (feature) to clean.\n",
    "        df (pd.DataFrame): DataFrame containing the data.\n",
    "    \n",
    "    Returns:\n",
    "        cleaned_df (pd.DataFrame): A new DataFrame without the outliers.\n",
    "    \"\"\"\n",
    "    # Calculate the first and third quartiles\n",
    "    Q1 = df[feature].quantile(0.25)  # First quartile (lower bound)\n",
    "    Q3 = df[feature].quantile(0.75)  # Third quartile (upper bound)\n",
    "    \n",
    "    # Compute the interquartile range (IQR)\n",
    "    IQR = Q3 - Q1\n",
    "    \n",
    "    # Define the lower and upper bounds for detecting outliers\n",
    "    lower_bound = Q1 - 1.5 * IQR\n",
    "    upper_bound = Q3 + 1.5 * IQR\n",
    "    \n",
    "    # Create a mask to identify rows where the feature is within the bounds\n",
    "    mask = (df[feature] >= lower_bound) & (df[feature] <= upper_bound)\n",
    "    \n",
    "    # Return a new DataFrame with outliers removed\n",
    "    cleaned_df = df[mask].reset_index(drop=True)\n",
    "    \n",
    "    return cleaned_df"
   ]
  },
  {
   "cell_type": "code",
   "execution_count": 92,
   "metadata": {},
   "outputs": [],
   "source": [
    "df_pre_v3 = df_pre_v2[df_pre_v2['Age'] != 0].reset_index(drop=True)\n",
    "df_pre_v3 = remove_outliers_iqr('Age', df_pre_v3)"
   ]
  },
  {
   "cell_type": "code",
   "execution_count": 93,
   "metadata": {},
   "outputs": [
    {
     "data": {
      "text/plain": [
       "count    14984.000000\n",
       "mean        40.407902\n",
       "std         11.897656\n",
       "min         16.000000\n",
       "25%         31.000000\n",
       "50%         38.000000\n",
       "75%         48.000000\n",
       "max         76.000000\n",
       "Name: Age, dtype: float64"
      ]
     },
     "execution_count": 93,
     "metadata": {},
     "output_type": "execute_result"
    }
   ],
   "source": [
    "df_pre_v3['Age'].describe()"
   ]
  },
  {
   "cell_type": "markdown",
   "metadata": {},
   "source": [
    "# **SMOTE Oversampling**\n",
    "- In this part, I decided to use SMOTE to handle imbalance."
   ]
  },
  {
   "cell_type": "code",
   "execution_count": 94,
   "metadata": {},
   "outputs": [
    {
     "name": "stdout",
     "output_type": "stream",
     "text": [
      "Shape Train X:(11987, 89)\n",
      "Shape Test X: (2997, 89) \n",
      "Shape Train y:(11987,)\n",
      "Shape Test y: (2997,) \n"
     ]
    }
   ],
   "source": [
    "# Train - Test Split\n",
    "X = df_pre_v3.drop(columns=\"FraudFound_P\")\n",
    "y = df_pre_v3[\"FraudFound_P\"]\n",
    "X_train, X_test, y_train, y_test = train_test_split(X, y, test_size=0.2, random_state=42)\n",
    "print(f\"Shape Train X:{X_train.shape}\\nShape Test X: {X_test.shape} \\nShape Train y:{y_train.shape}\\nShape Test y: {y_test.shape} \")"
   ]
  },
  {
   "cell_type": "code",
   "execution_count": 95,
   "metadata": {},
   "outputs": [
    {
     "name": "stdout",
     "output_type": "stream",
     "text": [
      "Before SMOTE:  (11987, 89) (11987,)\n",
      "After Smote:  (22534, 89) (22534,)\n",
      "After SMOTE Label Distribution:  FraudFound_P\n",
      "0    11267\n",
      "1    11267\n",
      "Name: count, dtype: int64\n"
     ]
    }
   ],
   "source": [
    "smote = SMOTE(random_state=0)\n",
    "X_train_over, y_train_over = smote.fit_resample(X_train, y_train)\n",
    "\n",
    "print(\"Before SMOTE: \", X_train.shape, y_train.shape)\n",
    "print(\"After Smote: \", X_train_over.shape, y_train_over.shape)\n",
    "\n",
    "print(\"After SMOTE Label Distribution: \", pd.Series(y_train_over).value_counts())"
   ]
  },
  {
   "cell_type": "code",
   "execution_count": 96,
   "metadata": {},
   "outputs": [
    {
     "data": {
      "text/plain": [
       "(22534, 90)"
      ]
     },
     "execution_count": 96,
     "metadata": {},
     "output_type": "execute_result"
    }
   ],
   "source": [
    "df_pre_v4 = pd.concat([X_train_over, y_train_over], axis=1)\n",
    "df_pre_v4.shape"
   ]
  },
  {
   "cell_type": "code",
   "execution_count": 97,
   "metadata": {},
   "outputs": [
    {
     "data": {
      "image/png": "[encoded data removed]",
      "text/plain": [
       "<Figure size 600x500 with 1 Axes>"
      ]
     },
     "metadata": {},
     "output_type": "display_data"
    }
   ],
   "source": [
    "target_SMOTE = df_pre_v4['FraudFound_P'].value_counts().reset_index()\n",
    "target_SMOTE.columns = ['FraudFound_P', 'Count']\n",
    "target_SMOTE\n",
    "\n",
    "# pie chart\n",
    "plt.figure(figsize=(6, 5))\n",
    "plt.pie(target_SMOTE['Count'], labels=target_SMOTE['FraudFound_P'], autopct='%1.1f%%', startangle=90)\n",
    "plt.title('Distribution of FraudFound_P After SMOTE')\n",
    "plt.axis('equal')\n",
    "\n",
    "plt.show()"
   ]
  },
  {
   "cell_type": "markdown",
   "metadata": {},
   "source": [
    "# Modeling"
   ]
  },
  {
   "cell_type": "markdown",
   "metadata": {},
   "source": [
    "## Train & Test Split"
   ]
  },
  {
   "cell_type": "code",
   "execution_count": 98,
   "metadata": {},
   "outputs": [],
   "source": [
    "Feature = df_pre_v4.drop(columns=\"FraudFound_P\")\n",
    "Target = df_pre_v4[\"FraudFound_P\"]\n",
    "\n",
    "X_train, X_test, y_train, y_test = train_test_split(Feature, Target, test_size=0.2, random_state=42)"
   ]
  },
  {
   "cell_type": "markdown",
   "metadata": {},
   "source": [
    "## Select Model\n",
    "- LogisticRegression\n",
    "- GradientBoostingClassifier\n",
    "- ExtraTreesClassifier\n",
    "- KNeighborsClassifier\n",
    "- SVC\n",
    "- AdaBoostClassifier"
   ]
  },
  {
   "cell_type": "code",
   "execution_count": 99,
   "metadata": {},
   "outputs": [],
   "source": [
    "models = {\n",
    "    'LogisticRegression': LogisticRegression(max_iter=1000, class_weight='balanced'),\n",
    "    'GradientBoosting': GradientBoostingClassifier(),\n",
    "    'ExtraTrees': ExtraTreesClassifier(class_weight='balanced'),\n",
    "    'KNeighbors': KNeighborsClassifier(),\n",
    "    'SVC': SVC(),\n",
    "    'AdaBoost': AdaBoostClassifier()\n",
    "}\n"
   ]
  },
  {
   "cell_type": "markdown",
   "metadata": {},
   "source": [
    "## Training and Evaluation"
   ]
  },
  {
   "cell_type": "code",
   "execution_count": 106,
   "metadata": {},
   "outputs": [
    {
     "name": "stdout",
     "output_type": "stream",
     "text": [
      "Evaluating LogisticRegression...\n"
     ]
    },
    {
     "name": "stderr",
     "output_type": "stream",
     "text": [
      "c:\\Users\\nguye\\miniconda3\\Lib\\site-packages\\sklearn\\linear_model\\_logistic.py:465: ConvergenceWarning: lbfgs failed to converge (status=1):\n",
      "STOP: TOTAL NO. of ITERATIONS REACHED LIMIT.\n",
      "\n",
      "Increase the number of iterations (max_iter) or scale the data as shown in:\n",
      "    https://scikit-learn.org/stable/modules/preprocessing.html\n",
      "Please also refer to the documentation for alternative solver options:\n",
      "    https://scikit-learn.org/stable/modules/linear_model.html#logistic-regression\n",
      "  n_iter_i = _check_optimize_result(\n"
     ]
    },
    {
     "name": "stdout",
     "output_type": "stream",
     "text": [
      "              precision    recall  f1-score   support\n",
      "\n",
      "           0       0.95      0.99      0.97      2336\n",
      "           1       0.99      0.94      0.96      2171\n",
      "\n",
      "    accuracy                           0.97      4507\n",
      "   macro avg       0.97      0.97      0.97      4507\n",
      "weighted avg       0.97      0.97      0.97      4507\n",
      "\n",
      "Accuracy: 0.9665\n",
      "F1 Score: 0.9644\n",
      "Precision: 0.9879\n",
      "Recall: 0.9420\n",
      "--------------------------------------------------\n",
      "Evaluating GradientBoosting...\n",
      "              precision    recall  f1-score   support\n",
      "\n",
      "           0       0.95      0.99      0.97      2336\n",
      "           1       0.99      0.94      0.96      2171\n",
      "\n",
      "    accuracy                           0.97      4507\n",
      "   macro avg       0.97      0.97      0.97      4507\n",
      "weighted avg       0.97      0.97      0.97      4507\n",
      "\n",
      "Accuracy: 0.9663\n",
      "F1 Score: 0.9642\n",
      "Precision: 0.9856\n",
      "Recall: 0.9438\n",
      "--------------------------------------------------\n",
      "Evaluating ExtraTrees...\n",
      "              precision    recall  f1-score   support\n",
      "\n",
      "           0       0.95      0.99      0.97      2336\n",
      "           1       0.99      0.95      0.97      2171\n",
      "\n",
      "    accuracy                           0.97      4507\n",
      "   macro avg       0.97      0.97      0.97      4507\n",
      "weighted avg       0.97      0.97      0.97      4507\n",
      "\n",
      "Accuracy: 0.9725\n",
      "F1 Score: 0.9708\n",
      "Precision: 0.9937\n",
      "Recall: 0.9489\n",
      "--------------------------------------------------\n",
      "Evaluating KNeighbors...\n",
      "              precision    recall  f1-score   support\n",
      "\n",
      "           0       1.00      0.60      0.75      2336\n",
      "           1       0.70      1.00      0.82      2171\n",
      "\n",
      "    accuracy                           0.79      4507\n",
      "   macro avg       0.85      0.80      0.78      4507\n",
      "weighted avg       0.85      0.79      0.78      4507\n",
      "\n",
      "Accuracy: 0.7903\n",
      "F1 Score: 0.8211\n",
      "Precision: 0.6971\n",
      "Recall: 0.9986\n",
      "--------------------------------------------------\n",
      "Evaluating SVC...\n"
     ]
    },
    {
     "name": "stderr",
     "output_type": "stream",
     "text": [
      "c:\\Users\\nguye\\miniconda3\\Lib\\site-packages\\sklearn\\metrics\\_classification.py:1565: UndefinedMetricWarning: Precision is ill-defined and being set to 0.0 in labels with no predicted samples. Use `zero_division` parameter to control this behavior.\n",
      "  _warn_prf(average, modifier, f\"{metric.capitalize()} is\", len(result))\n",
      "c:\\Users\\nguye\\miniconda3\\Lib\\site-packages\\sklearn\\metrics\\_classification.py:1565: UndefinedMetricWarning: Precision is ill-defined and being set to 0.0 in labels with no predicted samples. Use `zero_division` parameter to control this behavior.\n",
      "  _warn_prf(average, modifier, f\"{metric.capitalize()} is\", len(result))\n",
      "c:\\Users\\nguye\\miniconda3\\Lib\\site-packages\\sklearn\\metrics\\_classification.py:1565: UndefinedMetricWarning: Precision is ill-defined and being set to 0.0 in labels with no predicted samples. Use `zero_division` parameter to control this behavior.\n",
      "  _warn_prf(average, modifier, f\"{metric.capitalize()} is\", len(result))\n"
     ]
    },
    {
     "name": "stdout",
     "output_type": "stream",
     "text": [
      "              precision    recall  f1-score   support\n",
      "\n",
      "           0       0.00      0.00      0.00      2336\n",
      "           1       0.48      1.00      0.65      2171\n",
      "\n",
      "    accuracy                           0.48      4507\n",
      "   macro avg       0.24      0.50      0.33      4507\n",
      "weighted avg       0.23      0.48      0.31      4507\n",
      "\n",
      "Accuracy: 0.4817\n",
      "F1 Score: 0.6502\n",
      "Precision: 0.4817\n",
      "Recall: 1.0000\n",
      "--------------------------------------------------\n",
      "Evaluating AdaBoost...\n",
      "              precision    recall  f1-score   support\n",
      "\n",
      "           0       0.93      0.85      0.89      2336\n",
      "           1       0.85      0.93      0.89      2171\n",
      "\n",
      "    accuracy                           0.89      4507\n",
      "   macro avg       0.89      0.89      0.89      4507\n",
      "weighted avg       0.89      0.89      0.89      4507\n",
      "\n",
      "Accuracy: 0.8899\n",
      "F1 Score: 0.8907\n",
      "Precision: 0.8538\n",
      "Recall: 0.9309\n",
      "--------------------------------------------------\n"
     ]
    }
   ],
   "source": [
    "# Training and Evaluation\n",
    "for name, model in models.items():\n",
    "    print(f\"Evaluating {name}...\")\n",
    "    # Train the model\n",
    "    model.fit(X_train, y_train)\n",
    "    # Make predictions\n",
    "    y_pred = model.predict(X_test)\n",
    "    # Evaluate performance\n",
    "    print(classification_report(y_test, y_pred))\n",
    "    print(f\"Accuracy: {accuracy_score(y_test, y_pred):.4f}\")\n",
    "    print(f\"F1 Score: {f1_score(y_test, y_pred):.4f}\")\n",
    "    print(f\"Precision: {precision_score(y_test, y_pred):.4f}\")\n",
    "    print(f\"Recall: {recall_score(y_test, y_pred):.4f}\")\n",
    "    print(\"-\" * 50)"
   ]
  }
 ],
 "metadata": {
  "kernelspec": {
   "display_name": "base",
   "language": "python",
   "name": "python3"
  },
  "language_info": {
   "codemirror_mode": {
    "name": "ipython",
    "version": 3
   },
   "file_extension": ".py",
   "mimetype": "text/x-python",
   "name": "python",
   "nbconvert_exporter": "python",
   "pygments_lexer": "ipython3",
   "version": "3.11.7"
  }
 },
 "nbformat": 4,
 "nbformat_minor": 2
}
